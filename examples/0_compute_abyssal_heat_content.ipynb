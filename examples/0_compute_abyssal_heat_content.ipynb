{
 "cells": [
  {
   "cell_type": "code",
   "execution_count": 4,
   "id": "948f8ff0-3b46-49c7-a030-5f5094d8f956",
   "metadata": {},
   "outputs": [
    {
     "name": "stdout",
     "output_type": "stream",
     "text": [
      "The autoreload extension is already loaded. To reload it, use:\n",
      "  %reload_ext autoreload\n"
     ]
    }
   ],
   "source": [
    "%load_ext autoreload\n",
    "%autoreload 2"
   ]
  },
  {
   "cell_type": "markdown",
   "id": "3540228a-34a5-43ee-aeae-d25730eee568",
   "metadata": {},
   "source": [
    "### Load CMp125 output"
   ]
  },
  {
   "cell_type": "code",
   "execution_count": 5,
   "id": "b136bf6c-e9cf-4559-a918-8d69389523bb",
   "metadata": {},
   "outputs": [],
   "source": [
    "import numpy as np\n",
    "import xarray as xr\n",
    "from xgcm import Grid"
   ]
  },
  {
   "cell_type": "code",
   "execution_count": 6,
   "id": "0b9e731d-81c2-4c33-ab64-299130e6e2f5",
   "metadata": {},
   "outputs": [],
   "source": [
    "import warnings\n",
    "with warnings.catch_warnings():\n",
    "    warnings.filterwarnings(\"ignore\")\n",
    "\n",
    "    ## Load CM4p125's state variable output\n",
    "    zdiag_path = \"/archive/Raphael.Dussin/FMS2019.01.03_devgfdl_20210706/CM4_piControl_c192_OM4p125_v7/gfdl.ncrc4-intel18-prod-openmp/pp/ocean_annual_z/\"\n",
    "    thetao = xr.open_mfdataset(f\"{zdiag_path}/ts/annual/10yr/*thetao.nc\", chunks={'time':1})\n",
    "    volcello = xr.open_mfdataset(f\"{zdiag_path}/ts/annual/10yr/*.volcello.nc\", chunks={'time':1})\n",
    "    state = xr.merge([thetao, volcello])"
   ]
  },
  {
   "cell_type": "code",
   "execution_count": 7,
   "id": "c4e00baa-addf-466c-a2f2-b7d28c6d1824",
   "metadata": {},
   "outputs": [],
   "source": [
    "with warnings.catch_warnings():\n",
    "    warnings.filterwarnings(\"ignore\")\n",
    "    \n",
    "    # get correct geo coords from super grid\n",
    "    sg = xr.open_dataset(\"/archive/Raphael.Dussin/datasets/OM4p125/mosaic_c192_om4p125_bedmachine_v20210310_hydrographyKDunne20210614_unpacked/ocean_hgrid.nc\")\n",
    "    ocean_grid = xr.open_dataset(f\"{zdiag_path}ocean_annual_z.static.nc\")\n",
    "    ocean_grid['deptho'] = ocean_grid['deptho'].where(~np.isnan(ocean_grid['deptho']), 0.)\n",
    "    ocean_grid = ocean_grid.assign_coords({'geolon'  : xr.DataArray(sg['x'][1::2,1::2].data, dims=[\"yh\", \"xh\"]),\n",
    "                                           'geolat'  : xr.DataArray(sg['y'][1::2,1::2].data, dims=[\"yh\", \"xh\"])})\n",
    "    \n",
    "    # correct state variable grids\n",
    "    grid = Grid(state, coords={'X': {'center': 'xh',},\n",
    "                            'Y': {'center': 'yh',},\n",
    "                            'Z': {'center': 'z_l', 'outer': 'z_i'} }, periodic=['X'])\n",
    "    state['geolon'] = xr.DataArray(data=ocean_grid['geolon'].data, dims=('yh', 'xh'))\n",
    "    state['geolat'] = xr.DataArray(data=ocean_grid['geolat'].data, dims=('yh', 'xh'))\n",
    "    state = state.assign_coords({'geolon': state['geolon'],\n",
    "                                 'geolat': state['geolat']})"
   ]
  },
  {
   "cell_type": "code",
   "execution_count": 8,
   "id": "f1d09ec0-7990-45ab-b2b1-1f6451e5489b",
   "metadata": {},
   "outputs": [],
   "source": [
    "rho0 = 1035.\n",
    "Cp = 3992.\n",
    "heat_content = rho0*Cp*state['thetao']*state['volcello']"
   ]
  },
  {
   "cell_type": "code",
   "execution_count": 9,
   "id": "7311c9f5-95f9-4fa9-a775-c4b4174900ba",
   "metadata": {},
   "outputs": [],
   "source": [
    "integrated_heat_content = heat_content.sel(z_l=slice(4500, None)).sum('z_l').compute()"
   ]
  },
  {
   "cell_type": "code",
   "execution_count": 10,
   "id": "58bfe41d-98af-47b6-9749-34a85433804b",
   "metadata": {},
   "outputs": [],
   "source": [
    "integrated_heat_content.to_netcdf(\"/work/hfd/CM4-highres-WMT/data/abyssal_heat_content_annual.nc\", mode=\"w\")"
   ]
  }
 ],
 "metadata": {
  "kernelspec": {
   "display_name": "Python 3 (ipykernel)",
   "language": "python",
   "name": "python3"
  },
  "language_info": {
   "codemirror_mode": {
    "name": "ipython",
    "version": 3
   },
   "file_extension": ".py",
   "mimetype": "text/x-python",
   "name": "python",
   "nbconvert_exporter": "python",
   "pygments_lexer": "ipython3",
   "version": "3.10.6"
  }
 },
 "nbformat": 4,
 "nbformat_minor": 5
}
