{
 "cells": [
  {
   "cell_type": "code",
   "execution_count": 1,
   "id": "948f8ff0-3b46-49c7-a030-5f5094d8f956",
   "metadata": {},
   "outputs": [],
   "source": [
    "%load_ext autoreload\n",
    "%autoreload 2"
   ]
  },
  {
   "cell_type": "code",
   "execution_count": 2,
   "id": "f9e2d992-7460-4b23-a787-978c390d7a12",
   "metadata": {},
   "outputs": [],
   "source": [
    "import sys\n",
    "sys.path.append(\"../\")\n",
    "import regionate as reg\n",
    "import sectionate as sec"
   ]
  },
  {
   "cell_type": "code",
   "execution_count": 3,
   "id": "79650296-b44b-4922-af44-1d3d88f0105a",
   "metadata": {},
   "outputs": [],
   "source": [
    "import geopandas as gpd\n",
    "from shapely.geometry import Polygon\n",
    "import regionmask"
   ]
  },
  {
   "cell_type": "code",
   "execution_count": 4,
   "id": "6aeeb56e-2456-4542-b96b-c1df230a41ee",
   "metadata": {},
   "outputs": [],
   "source": [
    "import numpy as np\n",
    "import xarray as xr\n",
    "import matplotlib.pyplot as plt\n",
    "div_cmap = plt.get_cmap(\"RdBu_r\").copy()\n",
    "div_cmap.set_bad(\"grey\")\n",
    "\n",
    "cmap = plt.get_cmap(\"viridis\").copy()\n",
    "cmap.set_bad(\"grey\")"
   ]
  },
  {
   "cell_type": "markdown",
   "id": "f1164eeb-82f8-4a0b-89ad-f7fb81e3afbf",
   "metadata": {},
   "source": [
    "#### Helper functions"
   ]
  },
  {
   "cell_type": "code",
   "execution_count": 5,
   "id": "68efc9c3-836a-431f-b27a-6181aa9d93dd",
   "metadata": {},
   "outputs": [],
   "source": [
    "def basin_boundary_grid_indices(\n",
    "    b, ocean_grid,\n",
    "    coordnames={\n",
    "        't': ('geolon',   'geolat'  ),\n",
    "        'c': ('geolon_c', 'geolat_c'),\n",
    "        'u': ('geolon_u', 'geolat_u'),\n",
    "        'v': ('geolon_v', 'geolat_v')\n",
    "    }):\n",
    "    i, j, lons_c, lats_c = sec.create_section_composite(\n",
    "        ocean_grid[coordnames['c'][0]],\n",
    "        ocean_grid[coordnames['c'][1]],\n",
    "        np.append(b.lons, b.lons[0]),\n",
    "        np.append(b.lats, b.lats[0]),\n",
    "        closed=True\n",
    "    )\n",
    "    \n",
    "    symmetric = ocean_grid[coordnames['t'][0]].shape==ocean_grid[coordnames['c'][0]].shape\n",
    "    uvpoints = sec.transports_C.MOM6_UVpoints_from_section(i, j, symmetric=symmetric)\n",
    "\n",
    "    lons_uv, lats_uv = sec.transports_C.MOM6_UVcoords_from_points_uv(\n",
    "        ocean_grid[coordnames['u'][0]],\n",
    "        ocean_grid[coordnames['u'][1]],\n",
    "        ocean_grid[coordnames['v'][0]],\n",
    "        ocean_grid[coordnames['v'][1]],\n",
    "        uvpoints,\n",
    "    )\n",
    "\n",
    "    return i, j, lons_c[:-1], lats_c[:-1], lons_uv, lats_uv"
   ]
  },
  {
   "cell_type": "code",
   "execution_count": 6,
   "id": "2efbc1cb-82ba-4461-b3e2-e3fcaa5affc3",
   "metadata": {},
   "outputs": [],
   "source": [
    "def wrap_continuously(x, limit_discontinuity=180.):\n",
    "    new_x = x.copy()\n",
    "    for i in range(len(new_x)-1):\n",
    "        if new_x[i+1]-new_x[i] >= 180.:\n",
    "            new_x[i+1] -= 360.\n",
    "        elif new_x[i+1]-new_x[i] < -180:\n",
    "            new_x[i+1] += 360.\n",
    "    return new_x"
   ]
  },
  {
   "cell_type": "code",
   "execution_count": 7,
   "id": "7f208e03-4cb5-48b5-87dd-4db62ced9693",
   "metadata": {},
   "outputs": [],
   "source": [
    "def basin_interior_grid_mask(\n",
    "    b, ocean_grid,\n",
    "    coordnames={\n",
    "        't': ('geolon',   'geolat'  ),\n",
    "        'c': ('geolon_c', 'geolat_c'),\n",
    "        'u': ('geolon_u', 'geolat_u'),\n",
    "        'v': ('geolon_v', 'geolat_v')\n",
    "    }):\n",
    "    Δlon = np.sum(np.diff(b.lons)[np.abs(np.diff(b.lons)) < 180])\n",
    "    \n",
    "    if np.abs(Δlon) < 180.:\n",
    "        lons = np.append(b.lons, [b.lons[0]])\n",
    "        lats = np.append(b.lats, [b.lats[0]])\n",
    "        wrapped_lons = wrap_continuously(lons)\n",
    "        minlon = np.min(wrapped_lons)\n",
    "        polygon_geom = Polygon(zip(np.mod(wrapped_lons-minlon, 360.), lats))\n",
    "\n",
    "        crs = 'epsg:4326'\n",
    "        polygon = gpd.GeoDataFrame(index=[0], crs=crs, geometry=[polygon_geom])\n",
    "        basin_grid_mask = ~np.isnan(regionmask.mask_geopandas(polygon, np.mod(ocean_grid[coordnames['t'][0]]-minlon, 360.), lat=ocean_grid[coordnames['t'][1]], wrap_lon='360'))\n",
    "        \n",
    "    else:\n",
    "        # Flag specifies whether circumgeo regions are bounded by north or south pole\n",
    "        s = np.sign(Δlon).astype(int)\n",
    "        \n",
    "        if s>0:\n",
    "            min_idx = np.argmin(b.lons)\n",
    "        else:\n",
    "            min_idx = np.argmax(b.lons)\n",
    "        lons = np.roll(b.lons, -min_idx)\n",
    "        lats = np.roll(b.lats, -min_idx)\n",
    "\n",
    "        diffs = s*(lons[np.newaxis, :] - lons[:, np.newaxis])\n",
    "        diffs[np.tril_indices(lons.size)]*=-1\n",
    "        single_valued = ~np.any(diffs < 0, axis=1)\n",
    "        \n",
    "        roll_idx = np.argmax(single_valued[::s])\n",
    "        lons = np.roll(lons[::s], -roll_idx)[::s]\n",
    "        lats = np.roll(lats[::s], -roll_idx)[::s]\n",
    "        lons[::s][-roll_idx:] = lons[::s][-roll_idx:] - s*360.\n",
    "\n",
    "        min_idx = np.argmin(lons)\n",
    "        lons = np.append(lons, [lons[-1], lons[-1]-s*360, lons[-1]-s*360, lons[0]])\n",
    "        lats = np.append(lats, [s*90,     s*90,           lats[0],        lats[0]])\n",
    "\n",
    "        minlon = np.min(lons)\n",
    "        polygon_geom = Polygon(zip(lons-minlon, lats))\n",
    "        crs = 'epsg:4326'\n",
    "        polygon = gpd.GeoDataFrame(index=[0], crs=crs, geometry=[polygon_geom])\n",
    "        basin_grid_mask = ~np.isnan(regionmask.mask_geopandas(polygon, ocean_grid[coordnames['t'][0]]-minlon, lat=ocean_grid[coordnames['t'][1]], wrap_lon='360'))\n",
    "    \n",
    "    return basin_grid_mask"
   ]
  },
  {
   "cell_type": "code",
   "execution_count": 8,
   "id": "308dbe24-ba6c-441a-9a7a-df1b39dce2a4",
   "metadata": {},
   "outputs": [],
   "source": [
    "def conform_basin_to_ocean_grid(b, ocean_grid):\n",
    "    b.i, b.j, b.lons, b.lats, b.lons_uv, b.lats_uv = basin_boundary_grid_indices(b, ocean_grid)\n",
    "    b.mask = basin_interior_grid_mask(b, ocean_grid)"
   ]
  },
  {
   "cell_type": "markdown",
   "id": "e47f09d8-e3dd-4a46-99da-fc059e4319b2",
   "metadata": {},
   "source": [
    "## Load connected regions"
   ]
  },
  {
   "cell_type": "code",
   "execution_count": 9,
   "id": "4efa70e7-4188-4028-982f-892e0c61c59d",
   "metadata": {},
   "outputs": [],
   "source": [
    "import pickle\n",
    "BasinsFile = \"/work/hfd/datasets/regionate/pickled_regions/PJ2010_region\"\n",
    "with open(BasinsFile, 'rb') as pickle_file:\n",
    "    region = pickle.load(pickle_file)\n",
    "    \n",
    "# Slightly shift coordinates off of supergrid nodes to avoid rounding errors\n",
    "for bname, b in region.Basins.items():\n",
    "    b.lons -= 1.e-3\n",
    "    b.lats -= 1.e-3"
   ]
  },
  {
   "cell_type": "markdown",
   "id": "2d8419d3-c53d-4e9b-9e95-6829afb046dd",
   "metadata": {},
   "source": [
    "## Conform regions to CM4p25 grid"
   ]
  },
  {
   "cell_type": "code",
   "execution_count": 10,
   "id": "0e9ad32a-f189-488b-9403-dcb3f6dc4c25",
   "metadata": {},
   "outputs": [
    {
     "name": "stdout",
     "output_type": "stream",
     "text": [
      "Conforming regions to ocean grid: 10, 11, 12, 13, 14, 15, 16, 17, 18, 19, 1, 20, 21, 22, 23, 24, 25, 26, 27, 28, 29, 2, 30, 31, 32, 33, 3, 4, 5, 6, 7, 8, 9, 35, 34, "
     ]
    }
   ],
   "source": [
    "region_gridded = region.copy()\n",
    "\n",
    "import warnings\n",
    "with warnings.catch_warnings():\n",
    "    warnings.filterwarnings(\"ignore\")\n",
    "\n",
    "    # get correct geo coords from super grid\n",
    "    sg = xr.open_dataset(\"/archive/Raphael.Dussin/datasets/OM4p25/c192_OM4_025_grid_No_mg_drag_v20160808_unpacked/ocean_hgrid.nc\")\n",
    "    zdiag_path = \"/archive/Raphael.Dussin/FMS2019.01.03_devgfdl_20210706/CM4_piControl_c192_OM4p25_v7_allfixes/gfdl.ncrc4-intel18-prod-openmp/pp/ocean_annual_z/\"\n",
    "    ocean_grid = xr.open_dataset(f\"{zdiag_path}ocean_annual_z.static.nc\")\n",
    "    ocean_grid = ocean_grid.assign_coords({'geolon'  : xr.DataArray(sg['x'][1::2,1::2].data, dims=[\"yh\", \"xh\"]),\n",
    "                                           'geolat'  : xr.DataArray(sg['y'][1::2,1::2].data, dims=[\"yh\", \"xh\"]),\n",
    "                                           'geolon_u': xr.DataArray(sg['x'][1::2,0::2].data, dims=[\"yh\", \"xq\"]),\n",
    "                                           'geolat_u': xr.DataArray(sg['y'][1::2,0::2].data, dims=[\"yh\", \"xq\"]),\n",
    "                                           'geolon_v': xr.DataArray(sg['x'][0::2,1::2].data, dims=[\"yq\", \"xh\"]),\n",
    "                                           'geolat_v': xr.DataArray(sg['y'][0::2,1::2].data, dims=[\"yq\", \"xh\"]),\n",
    "                                           'geolon_c': xr.DataArray(sg['x'][0::2,0::2].data, dims=[\"yq\", \"xq\"]),\n",
    "                                           'geolat_c': xr.DataArray(sg['y'][0::2,0::2].data, dims=[\"yq\", \"xq\"])})\n",
    "    \n",
    "# Conform basin boundaries to model grid\n",
    "print(\"Conforming regions to ocean grid: \", end=\"\")\n",
    "for (bname, b) in region_gridded.Basins.items():\n",
    "    print(bname, end=\", \")\n",
    "    conform_basin_to_ocean_grid(b, ocean_grid)\n",
    "reg.check_global_coverage(region_gridded)\n",
    "region_gridded.find_all_overlaps(face_indices=True)\n",
    "\n",
    "# `pickle` boundary indices and area mask\n",
    "regionFile_CM4p25 = \"/work/hfd/datasets/regionate/pickled_regions/PJ2010_region_gridded_CM4p25\"\n",
    "with open(regionFile_CM4p25, 'wb') as pickle_file:\n",
    "    pickle.dump(region_gridded, pickle_file)"
   ]
  },
  {
   "cell_type": "markdown",
   "id": "dca3abb7-7db9-4579-af54-d0495cb9890e",
   "metadata": {},
   "source": [
    "## Conform regions to CM4p125 grid"
   ]
  },
  {
   "cell_type": "code",
   "execution_count": 11,
   "id": "d8563867-fd05-4ee7-b232-9f3c3913e17d",
   "metadata": {},
   "outputs": [
    {
     "name": "stdout",
     "output_type": "stream",
     "text": [
      "Conforming regions to ocean grid: 10, 11, 12, 13, 14, 15, 16, 17, 18, 19, 1, 20, 21, 22, 23, 24, 25, 26, 27, 28, 29, 2, 30, 31, 32, 33, 3, 4, 5, 6, 7, 8, 9, 35, 34, "
     ]
    }
   ],
   "source": [
    "region_gridded = region.copy()\n",
    "\n",
    "# Load CMp125 grid\n",
    "import warnings\n",
    "with warnings.catch_warnings():\n",
    "    warnings.filterwarnings(\"ignore\")\n",
    "    \n",
    "    # get correct geo coords from super grid\n",
    "    sg = xr.open_dataset(\"/archive/Raphael.Dussin/datasets/OM4p125/mosaic_c192_om4p125_bedmachine_v20210310_hydrographyKDunne20210614_unpacked/ocean_hgrid.nc\")\n",
    "    zdiag_path = \"/archive/Raphael.Dussin/FMS2019.01.03_devgfdl_20210706/CM4_piControl_c192_OM4p125_v7/gfdl.ncrc4-intel18-prod-openmp/pp/ocean_annual_z/\"\n",
    "    ocean_grid = xr.open_dataset(f\"{zdiag_path}ocean_annual_z.static.nc\")\n",
    "    ocean_grid = ocean_grid.assign_coords({'geolon'  : xr.DataArray(sg['x'][1::2,1::2].data, dims=[\"yh\", \"xh\"]),\n",
    "                                           'geolat'  : xr.DataArray(sg['y'][1::2,1::2].data, dims=[\"yh\", \"xh\"]),\n",
    "                                           'geolon_u': xr.DataArray(sg['x'][1::2,0::2].data, dims=[\"yh\", \"xq\"]),\n",
    "                                           'geolat_u': xr.DataArray(sg['y'][1::2,0::2].data, dims=[\"yh\", \"xq\"]),\n",
    "                                           'geolon_v': xr.DataArray(sg['x'][0::2,1::2].data, dims=[\"yq\", \"xh\"]),\n",
    "                                           'geolat_v': xr.DataArray(sg['y'][0::2,1::2].data, dims=[\"yq\", \"xh\"]),\n",
    "                                           'geolon_c': xr.DataArray(sg['x'][0::2,0::2].data, dims=[\"yq\", \"xq\"]),\n",
    "                                           'geolat_c': xr.DataArray(sg['y'][0::2,0::2].data, dims=[\"yq\", \"xq\"])})\n",
    "\n",
    "# Conform basin boundaries to model grid\n",
    "print(\"Conforming regions to ocean grid: \", end=\"\")\n",
    "for (bname, b) in region_gridded.Basins.items():\n",
    "    print(bname, end=\", \")\n",
    "    conform_basin_to_ocean_grid(b, ocean_grid)\n",
    "reg.check_global_coverage(region_gridded)\n",
    "region_gridded.find_all_overlaps(face_indices=True)\n",
    "\n",
    "    \n",
    "# `pickle` boundary indices and area mask\n",
    "regionFile_CM4p125 = \"/work/hfd/datasets/regionate/pickled_regions/PJ2010_region_gridded_CM4p125\"\n",
    "with open(regionFile_CM4p125, 'wb') as pickle_file:\n",
    "    pickle.dump(region_gridded, pickle_file)"
   ]
  },
  {
   "cell_type": "code",
   "execution_count": null,
   "id": "b9f64680-08b7-40dd-a8bf-333cd29e1422",
   "metadata": {},
   "outputs": [],
   "source": []
  },
  {
   "cell_type": "code",
   "execution_count": null,
   "id": "975cd07d-5e88-4248-af1c-99e948ee57d1",
   "metadata": {},
   "outputs": [],
   "source": []
  }
 ],
 "metadata": {
  "kernelspec": {
   "display_name": "Python 3 (ipykernel)",
   "language": "python",
   "name": "python3"
  },
  "language_info": {
   "codemirror_mode": {
    "name": "ipython",
    "version": 3
   },
   "file_extension": ".py",
   "mimetype": "text/x-python",
   "name": "python",
   "nbconvert_exporter": "python",
   "pygments_lexer": "ipython3",
   "version": "3.10.6"
  }
 },
 "nbformat": 4,
 "nbformat_minor": 5
}
