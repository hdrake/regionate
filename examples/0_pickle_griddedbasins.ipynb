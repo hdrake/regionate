{
 "cells": [
  {
   "cell_type": "code",
   "execution_count": 1,
   "id": "20c1b207-199d-437d-bcca-ffcb49a014fe",
   "metadata": {},
   "outputs": [],
   "source": [
    "import os\n",
    "os.environ['PYPROJ_GLOBAL_CONTEXT'] = 'ON'"
   ]
  },
  {
   "cell_type": "code",
   "execution_count": 2,
   "id": "948f8ff0-3b46-49c7-a030-5f5094d8f956",
   "metadata": {},
   "outputs": [],
   "source": [
    "%load_ext autoreload\n",
    "%autoreload 2"
   ]
  },
  {
   "cell_type": "code",
   "execution_count": 3,
   "id": "f9e2d992-7460-4b23-a787-978c390d7a12",
   "metadata": {},
   "outputs": [],
   "source": [
    "import sys\n",
    "sys.path.append(\"../\")\n",
    "import regionate as reg\n",
    "import sectionate as sec"
   ]
  },
  {
   "cell_type": "code",
   "execution_count": 4,
   "id": "79650296-b44b-4922-af44-1d3d88f0105a",
   "metadata": {},
   "outputs": [],
   "source": [
    "import geopandas as gpd\n",
    "from shapely.geometry import Polygon\n",
    "import regionmask"
   ]
  },
  {
   "cell_type": "code",
   "execution_count": 5,
   "id": "6aeeb56e-2456-4542-b96b-c1df230a41ee",
   "metadata": {},
   "outputs": [],
   "source": [
    "import numpy as np\n",
    "import xarray as xr\n",
    "import matplotlib.pyplot as plt\n",
    "div_cmap = plt.get_cmap(\"RdBu_r\").copy()\n",
    "div_cmap.set_bad(\"grey\")\n",
    "\n",
    "cmap = plt.get_cmap(\"viridis\").copy()\n",
    "cmap.set_bad(\"grey\")"
   ]
  },
  {
   "cell_type": "markdown",
   "id": "f1164eeb-82f8-4a0b-89ad-f7fb81e3afbf",
   "metadata": {},
   "source": [
    "#### Helper functions"
   ]
  },
  {
   "cell_type": "code",
   "execution_count": 6,
   "id": "68efc9c3-836a-431f-b27a-6181aa9d93dd",
   "metadata": {},
   "outputs": [],
   "source": [
    "def basin_boundary_grid_indices(basin, ocean_grid):\n",
    "    corner_i, corner_j, corner_lons, corner_lats = sec.create_section_composite(\n",
    "        ocean_grid['geolon_c'],\n",
    "        ocean_grid['geolat_c'],\n",
    "        np.append(basin.lons, basin.lons[0]),\n",
    "        np.append(basin.lats, basin.lats[0]),\n",
    "        closed=True\n",
    "    )\n",
    "    \n",
    "    return corner_i, corner_j, corner_lons, corner_lats"
   ]
  },
  {
   "cell_type": "code",
   "execution_count": 7,
   "id": "4f64d218-b284-4e1c-bf38-92cd97abdaa7",
   "metadata": {},
   "outputs": [],
   "source": [
    "def basin_interior_grid_mask(basin, ocean_grid):\n",
    "    polygon_geom = Polygon(zip(np.mod(basin.corner_lons, 360), basin.corner_lats))\n",
    "\n",
    "    crs = 'epsg:4326'\n",
    "    polygon = gpd.GeoDataFrame(index=[0], crs=crs, geometry=[polygon_geom])\n",
    "    basin_grid_mask = ~np.isnan(regionmask.mask_geopandas(polygon, np.mod(ocean_grid['geolon'], 360), lat=ocean_grid['geolat'], wrap_lon=\"360\"))\n",
    "    \n",
    "    return basin_grid_mask"
   ]
  },
  {
   "cell_type": "code",
   "execution_count": 8,
   "id": "308dbe24-ba6c-441a-9a7a-df1b39dce2a4",
   "metadata": {},
   "outputs": [],
   "source": [
    "def conform_basin_to_ocean_grid(basin, ocean_grid):\n",
    "    basin.corner_i, basin.corner_j, basin.corner_lons, basin.corner_lats = basin_boundary_grid_indices(basin, ocean_grid)\n",
    "    basin.mask = basin_interior_grid_mask(basin, ocean_grid)"
   ]
  },
  {
   "cell_type": "markdown",
   "id": "e47f09d8-e3dd-4a46-99da-fc059e4319b2",
   "metadata": {},
   "source": [
    "### Load connected regions"
   ]
  },
  {
   "cell_type": "code",
   "execution_count": 9,
   "id": "4efa70e7-4188-4028-982f-892e0c61c59d",
   "metadata": {},
   "outputs": [],
   "source": [
    "import pickle\n",
    "BasinsFile = \"pickled_regions/PJ2010_regions\"\n",
    "with open(BasinsFile, 'rb') as pickle_file:\n",
    "    regions = pickle.load(pickle_file)"
   ]
  },
  {
   "cell_type": "markdown",
   "id": "3540228a-34a5-43ee-aeae-d25730eee568",
   "metadata": {},
   "source": [
    "### Load processed CMp125 output"
   ]
  },
  {
   "cell_type": "code",
   "execution_count": 10,
   "id": "d8563867-fd05-4ee7-b232-9f3c3913e17d",
   "metadata": {},
   "outputs": [],
   "source": [
    "import warnings\n",
    "with warnings.catch_warnings():\n",
    "    warnings.filterwarnings(\"ignore\")\n",
    "    \n",
    "    # get correct geo coords from super grid\n",
    "    sg = xr.open_dataset(\"/archive/Raphael.Dussin/datasets/OM4p125/mosaic_c192_om4p125_bedmachine_v20210310_hydrographyKDunne20210614_unpacked/ocean_hgrid.nc\")\n",
    "    zdiag_path = \"/archive/Raphael.Dussin/FMS2019.01.03_devgfdl_20210706/CM4_piControl_c192_OM4p125_v7/gfdl.ncrc4-intel18-prod-openmp/pp/ocean_annual_z/\"\n",
    "    ocean_grid = xr.open_dataset(f\"{zdiag_path}ocean_annual_z.static.nc\")\n",
    "    ocean_grid = ocean_grid.assign_coords({'geolon'  : xr.DataArray(sg['x'][1::2,1::2].data, dims=[\"yh\", \"xh\"]),\n",
    "                                           'geolat'  : xr.DataArray(sg['y'][1::2,1::2].data, dims=[\"yh\", \"xh\"]),\n",
    "                                           'geolon_u': xr.DataArray(sg['x'][1::2,0::2].data, dims=[\"yh\", \"xq\"]),\n",
    "                                           'geolat_u': xr.DataArray(sg['y'][1::2,0::2].data, dims=[\"yh\", \"xq\"]),\n",
    "                                           'geolon_v': xr.DataArray(sg['x'][0::2,1::2].data, dims=[\"yq\", \"xh\"]),\n",
    "                                           'geolat_v': xr.DataArray(sg['y'][0::2,1::2].data, dims=[\"yq\", \"xh\"]),\n",
    "                                           'geolon_c': xr.DataArray(sg['x'][0::2,0::2].data, dims=[\"yq\", \"xq\"]),\n",
    "                                           'geolat_c': xr.DataArray(sg['y'][0::2,0::2].data, dims=[\"yq\", \"xq\"])})"
   ]
  },
  {
   "cell_type": "code",
   "execution_count": 11,
   "id": "0d500473-62b4-4fa0-accc-03f89b5fc352",
   "metadata": {},
   "outputs": [],
   "source": [
    "heat = xr.open_dataset(\"/work/hfd/CM4-highres-WMT/data/abyssal_heat_content_annual.nc\").isel(time=-1)"
   ]
  },
  {
   "cell_type": "markdown",
   "id": "a4694601-832d-41da-bf7b-432725447d73",
   "metadata": {},
   "source": [
    "### Conform basin boundaries to model grid"
   ]
  },
  {
   "cell_type": "code",
   "execution_count": null,
   "id": "3e848133-8348-442c-bdc8-39247a587e2d",
   "metadata": {},
   "outputs": [
    {
     "name": "stdout",
     "output_type": "stream",
     "text": [
      "Conforming regions to ocean grid: 10, 11, 12, 13, 14, 15, 16, 17, 18, 19, 1, 20, 21, 22, 23, 24, 25, 26, 27, 28, 29, 2, 30, 31, 32, 33, 3, 4, 5, 6, 7, 8, "
     ]
    }
   ],
   "source": [
    "print(\"Conforming regions to ocean grid: \", end=\"\")\n",
    "for (name, basin) in regions.Basins.items():\n",
    "    print(name, end=\", \")\n",
    "    conform_basin_to_ocean_grid(regions.Basins[name], ocean_grid)"
   ]
  },
  {
   "cell_type": "code",
   "execution_count": null,
   "id": "8bccfbf3-8606-42ad-9d33-ad22a624d5aa",
   "metadata": {},
   "outputs": [],
   "source": [
    "import pickle\n",
    "BasinsFile = \"pickled_regions/PJ2010_regions_gridded\"\n",
    "with open(BasinsFile, 'wb') as pickle_file:\n",
    "    pickle.dump(regions, pickle_file)"
   ]
  },
  {
   "cell_type": "markdown",
   "id": "fcfad9f8-69d9-4784-afc1-554a06ce48d6",
   "metadata": {},
   "source": [
    "### Verfication plots of region boundaries and interior masks"
   ]
  },
  {
   "cell_type": "code",
   "execution_count": null,
   "id": "235a9333-d860-4ca9-b323-14150c3c2f14",
   "metadata": {},
   "outputs": [],
   "source": [
    "import cmocean\n",
    "import cartopy.crs as ccrs\n",
    "import cartopy.feature as cfeature"
   ]
  },
  {
   "cell_type": "code",
   "execution_count": null,
   "id": "9701f73a-177d-4465-be36-506ff55742d7",
   "metadata": {},
   "outputs": [],
   "source": [
    "data_crs = ccrs.PlateCarree()\n",
    "subplot_kws=dict(projection=data_crs, facecolor='grey')"
   ]
  },
  {
   "cell_type": "code",
   "execution_count": null,
   "id": "c66155d3-db03-4012-8aa4-98d4de74b314",
   "metadata": {},
   "outputs": [],
   "source": [
    "basin.corner_lons"
   ]
  },
  {
   "cell_type": "code",
   "execution_count": null,
   "id": "b3e6d8ec-69fb-43da-a41b-3b01646bfdb9",
   "metadata": {},
   "outputs": [],
   "source": [
    "for bname in [\"1\", \"2\", \"3\", \"4\"]:\n",
    "    basin = regions.Basins[bname]\n",
    "    fig = plt.figure(figsize=(14, 10))\n",
    "    ax = plt.axes(**subplot_kws)\n",
    "    pc = ax.pcolormesh(ocean_grid['geolon_c'], ocean_grid['geolat_c'], basin.mask, transform=data_crs, cmap=\"Greys\", vmin=0, vmax=2)\n",
    "    ax.plot(basin.lons, basin.lats, \"C1x\", transform=data_crs, markersize=4)\n",
    "    ax.plot(basin.corner_lons, basin.corner_lats, \"k.-\", lw=0.5, markersize=3, transform=data_crs)"
   ]
  },
  {
   "cell_type": "code",
   "execution_count": null,
   "id": "468dd08a-0311-4a29-b157-9dbb338d8f36",
   "metadata": {},
   "outputs": [],
   "source": [
    "for bname in [\"1\", \"2\", \"3\", \"4\"]:\n",
    "    basin = regions.Basins[bname]\n",
    "    fig = plt.figure(figsize=(14, 10))\n",
    "    ax = plt.axes()\n",
    "    ax.plot(basin.lons, basin.lats, \"C1x\", markersize=4)\n",
    "    ax.plot(np.mod(basin.corner_lons, 360), basin.corner_lats, \"k.-\", lw=0.5, markersize=3)"
   ]
  },
  {
   "cell_type": "code",
   "execution_count": null,
   "id": "00c66f21-3bc3-45df-b36c-49e3859f291a",
   "metadata": {},
   "outputs": [],
   "source": [
    "corner_i_ref, corner_j_ref, corner_lons_ref, corner_lats_ref = sec.create_section_composite(\n",
    "    ocean_grid['geolon_c'],\n",
    "    ocean_grid['geolat_c'],\n",
    "    np.append(basin.lons[::10], basin.lons[0]),\n",
    "    np.append(basin.lats[::10], basin.lats[0]),\n",
    "    closed=True\n",
    ")"
   ]
  },
  {
   "cell_type": "code",
   "execution_count": null,
   "id": "d78023e4-7598-4c46-be43-dcc4491f4b0d",
   "metadata": {},
   "outputs": [],
   "source": [
    "lon_offset = np.mod( np.min(basin.lons[::10]) + 300., 360.)-300. -5.\n",
    "lon_offset"
   ]
  },
  {
   "cell_type": "code",
   "execution_count": null,
   "id": "959ac08c-d80f-4361-a209-e73be9289046",
   "metadata": {},
   "outputs": [],
   "source": [
    "roll_idx = (np.abs(ocean_grid['geolon_c'].min(\"yq\") - lon_offset)).argmin('xq').values"
   ]
  },
  {
   "cell_type": "code",
   "execution_count": null,
   "id": "0182a0e8-adba-4753-af5f-5a573dce0885",
   "metadata": {},
   "outputs": [],
   "source": [
    "tmp = ocean_grid.roll({'xq': -roll_idx, 'xh': -roll_idx}, roll_coords=True)"
   ]
  },
  {
   "cell_type": "code",
   "execution_count": null,
   "id": "1ff682ec-102f-4459-a5d7-7f155e3a5f60",
   "metadata": {},
   "outputs": [],
   "source": [
    "tmp = tmp.assign_coords({k:np.mod(v-lon_offset, 360.)+lon_offset for (k,v) in tmp.coords.items() if ('x' in k)})\n",
    "tmp = tmp.assign_coords({k:np.mod(v-lon_offset, 360.)+lon_offset for (k,v) in tmp.coords.items() if ('lon' in k)})"
   ]
  },
  {
   "cell_type": "code",
   "execution_count": null,
   "id": "bbad963c-d0f6-465b-9d4a-7c8d3e21c939",
   "metadata": {},
   "outputs": [],
   "source": [
    "corner_i, corner_j, corner_lons, corner_lats = sec.create_section_composite(\n",
    "    tmp['geolon_c'],\n",
    "    tmp['geolat_c'],\n",
    "    np.append(basin.lons[::10], basin.lons[0]),\n",
    "    np.append(basin.lats[::10], basin.lats[0]),\n",
    "    closed=True\n",
    ")"
   ]
  },
  {
   "cell_type": "code",
   "execution_count": null,
   "id": "e7ff5345-3326-4dfb-b2d1-84a3dc82dc00",
   "metadata": {},
   "outputs": [],
   "source": [
    "corner_i"
   ]
  },
  {
   "cell_type": "code",
   "execution_count": null,
   "id": "96b354c5-791e-45c5-9f6c-2440e6da05e7",
   "metadata": {},
   "outputs": [],
   "source": [
    "plt.plot(basin.lons[::10], basin.lats[::10], \"kx\", markersize=5, label=\"segment vertices\")\n",
    "plt.plot(corner_lons_ref, corner_lats_ref, \".-\", markersize=1, lw=3, alpha=0.5, label=\"current implementation\")\n",
    "plt.plot(corner_lons, corner_lats, \".-\", markersize=1, lw=0.5, label=\"shortest wrapping\")\n",
    "plt.axvline(60, linestyle=\"--\", color=\"k\")\n",
    "plt.legend()"
   ]
  },
  {
   "cell_type": "code",
   "execution_count": null,
   "id": "8c88fb88-94f1-4e12-bc2f-51168441f560",
   "metadata": {},
   "outputs": [],
   "source": []
  }
 ],
 "metadata": {
  "kernelspec": {
   "display_name": "Python 3 (ipykernel)",
   "language": "python",
   "name": "python3"
  },
  "language_info": {
   "codemirror_mode": {
    "name": "ipython",
    "version": 3
   },
   "file_extension": ".py",
   "mimetype": "text/x-python",
   "name": "python",
   "nbconvert_exporter": "python",
   "pygments_lexer": "ipython3",
   "version": "3.10.6"
  }
 },
 "nbformat": 4,
 "nbformat_minor": 5
}
