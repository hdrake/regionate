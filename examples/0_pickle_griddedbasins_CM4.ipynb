{
 "cells": [
  {
   "cell_type": "code",
   "execution_count": 1,
   "id": "948f8ff0-3b46-49c7-a030-5f5094d8f956",
   "metadata": {},
   "outputs": [],
   "source": [
    "%load_ext autoreload\n",
    "%autoreload 2"
   ]
  },
  {
   "cell_type": "code",
   "execution_count": 2,
   "id": "f9e2d992-7460-4b23-a787-978c390d7a12",
   "metadata": {},
   "outputs": [],
   "source": [
    "import regionate as reg\n",
    "import sectionate as sec"
   ]
  },
  {
   "cell_type": "code",
   "execution_count": 3,
   "id": "6aeeb56e-2456-4542-b96b-c1df230a41ee",
   "metadata": {},
   "outputs": [],
   "source": [
    "import numpy as np\n",
    "import xgcm\n",
    "import xarray as xr\n",
    "import matplotlib.pyplot as plt"
   ]
  },
  {
   "cell_type": "code",
   "execution_count": 4,
   "id": "8b877997-ae29-455b-b467-a8609b5e627f",
   "metadata": {},
   "outputs": [],
   "source": [
    "import pickle"
   ]
  },
  {
   "cell_type": "markdown",
   "id": "e47f09d8-e3dd-4a46-99da-fc059e4319b2",
   "metadata": {},
   "source": [
    "## Load basin boundaries as an instance of `regionate.Regions` consisting of 37 instances of `regionate.Region`"
   ]
  },
  {
   "cell_type": "code",
   "execution_count": 5,
   "id": "4efa70e7-4188-4028-982f-892e0c61c59d",
   "metadata": {},
   "outputs": [],
   "source": [
    "import scipy.io\n",
    "basins = scipy.io.loadmat('boundaries/PJ2010_abyssal_basin_boundaries.mat', simplify_cells=True, squeeze_me=True)['bsn_only']\n",
    "region = reg.Regions({\n",
    "    str(r['bsn_num'].replace(\"_\", \"\")):\n",
    "    reg.Region(\n",
    "        str(r['bsn_num'].replace(\"_\", \"\")),\n",
    "        r['bsn'][0],\n",
    "        r['bsn'][1]\n",
    "    )\n",
    "    for r in basins\n",
    "})\n",
    "    \n",
    "# Slightly shift coordinates off of supergrid nodes to avoid rounding errors\n",
    "for rname, r in region.regions.items():\n",
    "    r.lons -= 1.e-5\n",
    "    r.lats -= 1.e-5"
   ]
  },
  {
   "cell_type": "markdown",
   "id": "6e148e80-1006-4215-9343-378e8feef7b5",
   "metadata": {},
   "source": [
    "## Conform regions to OM4p5 grid"
   ]
  },
  {
   "cell_type": "code",
   "execution_count": 12,
   "id": "f27d2c75-250e-44af-afce-522283b3d1fb",
   "metadata": {},
   "outputs": [],
   "source": [
    "import warnings\n",
    "with warnings.catch_warnings():\n",
    "    warnings.filterwarnings(\"ignore\")\n",
    "\n",
    "    # get correct geo coords from super grid\n",
    "    zdiag_path = \"/archive/Jan-erik.Tesdal/FMS2021.02_mom6_20210630/OM4p5_JRA55do1.4_0netfw_cycle1/gfdl.ncrc4-intel18-prod/pp/ocean_annual_z/\"\n",
    "    ocean_grid = xr.open_dataset(f\"{zdiag_path}ocean_annual_z.static.nc\")\n",
    "    ocean_grid = ocean_grid.assign_coords({\n",
    "        \"geolon\": ocean_grid.geolon,\n",
    "        \"geolat\": ocean_grid.geolat,\n",
    "        \"geolon_c\": ocean_grid.geolon_c,\n",
    "        \"geolat_c\": ocean_grid.geolat_c,\n",
    "    })\n",
    "    coords={\n",
    "        'X': {'center': 'xh', 'outer': 'xq'},\n",
    "        'Y': {'center': 'yh', 'outer': 'yq'},\n",
    "    }\n",
    "    grid = xgcm.Grid(ocean_grid, coords=coords, periodic=[\"X\"])"
   ]
  },
  {
   "cell_type": "code",
   "execution_count": 13,
   "id": "cce7ab4e-4933-4b33-9609-d85e142ed05c",
   "metadata": {},
   "outputs": [
    {
     "name": "stdout",
     "output_type": "stream",
     "text": [
      "Conforming regions to ocean grid: 10, 11, 12, 13, 14, 15, 16, 17, 18, 19, 1, 20, 21, 22, 23, 24, 25, 26, 27, 28, 29, 2, 30, 31, 32, 33, 3, 4, 5, 6, 7, 8, 9, 35, 34, 36, 37, "
     ]
    }
   ],
   "source": [
    "region_gridded = reg.GriddedRegions({}, grid)\n",
    "\n",
    "# Conform basin boundaries to model grid\n",
    "print(\"Conforming regions to ocean grid: \", end=\"\")\n",
    "for (rname, r) in region.regions.items():\n",
    "    print(rname, end=\", \")\n",
    "    region_gridded.regions[rname] = reg.GriddedRegion(\n",
    "        rname,\n",
    "        r.lons,\n",
    "        r.lats,\n",
    "        grid,\n",
    "        positive_in=r.counterclockwise\n",
    "    )"
   ]
  },
  {
   "cell_type": "code",
   "execution_count": null,
   "id": "c60a51f4-70ce-48fc-9140-287c44b8ee46",
   "metadata": {},
   "outputs": [],
   "source": [
    "reg.check_global_coverage(region_gridded)\n",
    "region_gridded.find_all_overlaps(face_indices=True)\n",
    "\n",
    "# `pickle` boundary indices and area mask\n",
    "regionFile = \"/work/hfd/datasets/regionate/pickled_regions/PJ2010_region_gridded_OM4p5\"\n",
    "with open(regionFile, 'wb') as pickle_file:\n",
    "    pickle.dump(region_gridded, pickle_file)"
   ]
  },
  {
   "cell_type": "markdown",
   "id": "2d8419d3-c53d-4e9b-9e95-6829afb046dd",
   "metadata": {},
   "source": [
    "## Conform regions to CM4p25 grid"
   ]
  },
  {
   "cell_type": "code",
   "execution_count": 25,
   "id": "0e9ad32a-f189-488b-9403-dcb3f6dc4c25",
   "metadata": {},
   "outputs": [],
   "source": [
    "import warnings\n",
    "with warnings.catch_warnings():\n",
    "    warnings.filterwarnings(\"ignore\")\n",
    "\n",
    "    # get correct geo coords from super grid\n",
    "    sg = xr.open_dataset(\"/archive/Raphael.Dussin/datasets/OM4p25/c192_OM4_025_grid_No_mg_drag_v20160808_unpacked/ocean_hgrid.nc\")\n",
    "    zdiag_path = \"/archive/Raphael.Dussin/FMS2019.01.03_devgfdl_20210706/CM4_piControl_c192_OM4p25_v7_allfixes/gfdl.ncrc4-intel18-prod-openmp/pp/ocean_annual_z/\"\n",
    "    ocean_grid = xr.open_dataset(f\"{zdiag_path}ocean_annual_z.static.nc\")\n",
    "    ocean_grid = ocean_grid.assign_coords({\n",
    "        'geolon'  : xr.DataArray(sg['x'][1::2,1::2].data, dims=[\"yh\", \"xh\"]),\n",
    "        'geolat'  : xr.DataArray(sg['y'][1::2,1::2].data, dims=[\"yh\", \"xh\"]),\n",
    "        'geolon_u': xr.DataArray(sg['x'][1::2,0::2].data, dims=[\"yh\", \"xq\"]),\n",
    "        'geolat_u': xr.DataArray(sg['y'][1::2,0::2].data, dims=[\"yh\", \"xq\"]),\n",
    "        'geolon_v': xr.DataArray(sg['x'][0::2,1::2].data, dims=[\"yq\", \"xh\"]),\n",
    "        'geolat_v': xr.DataArray(sg['y'][0::2,1::2].data, dims=[\"yq\", \"xh\"]),\n",
    "        'geolon_c': xr.DataArray(sg['x'][0::2,0::2].data, dims=[\"yq\", \"xq\"]),\n",
    "        'geolat_c': xr.DataArray(sg['y'][0::2,0::2].data, dims=[\"yq\", \"xq\"])\n",
    "    })\n",
    "    \n",
    "    coords={\n",
    "        'X': {'center': 'xh', 'outer': 'xq'},\n",
    "        'Y': {'center': 'yh', 'outer': 'yq'},\n",
    "    }\n",
    "    grid = xgcm.Grid(ocean_grid, coords=coords, periodic=[\"X\"])"
   ]
  },
  {
   "cell_type": "code",
   "execution_count": 26,
   "id": "f29a7f66-d246-44d5-9148-32340da3efcc",
   "metadata": {},
   "outputs": [
    {
     "name": "stdout",
     "output_type": "stream",
     "text": [
      "Conforming regions to ocean grid: 10, 11, 12, 13, 14, 15, 16, 17, 18, 19, 1, 20, 21, 22, 23, 24, 25, 26, 27, 28, 29, 2, 30, 31, 32, 33, 3, 4, 5, 6, 7, 8, 9, 35, 34, 36, 37, "
     ]
    }
   ],
   "source": [
    "region_gridded = reg.GriddedRegions({}, grid)\n",
    "\n",
    "# Conform basin boundaries to model grid\n",
    "print(\"Conforming regions to ocean grid: \", end=\"\")\n",
    "for (rname, r) in region.regions.items():\n",
    "    print(rname, end=\", \")\n",
    "    region_gridded.regions[rname] = reg.GriddedRegion(\n",
    "        rname,\n",
    "        r.lons,\n",
    "        r.lats,\n",
    "        grid,\n",
    "        positive_in=r.counterclockwise\n",
    "    )"
   ]
  },
  {
   "cell_type": "code",
   "execution_count": 27,
   "id": "2ba179c7-a408-4dd2-887c-5469fc0c39bf",
   "metadata": {},
   "outputs": [],
   "source": [
    "reg.check_global_coverage(region_gridded)\n",
    "region_gridded.find_all_overlaps(face_indices=True)\n",
    "\n",
    "# `pickle` boundary indices and area mask\n",
    "regionFile = \"/work/hfd/datasets/regionate/pickled_regions/PJ2010_region_gridded_CM4p25\"\n",
    "with open(regionFile, 'wb') as pickle_file:\n",
    "    pickle.dump(region_gridded, pickle_file)"
   ]
  },
  {
   "cell_type": "markdown",
   "id": "dca3abb7-7db9-4579-af54-d0495cb9890e",
   "metadata": {},
   "source": [
    "## Conform regions to CM4p125 grid"
   ]
  },
  {
   "cell_type": "code",
   "execution_count": 28,
   "id": "d8563867-fd05-4ee7-b232-9f3c3913e17d",
   "metadata": {},
   "outputs": [],
   "source": [
    "# Load CMp125 grid\n",
    "import warnings\n",
    "with warnings.catch_warnings():\n",
    "    warnings.filterwarnings(\"ignore\")\n",
    "    \n",
    "    # get correct geo coords from super grid\n",
    "    sg = xr.open_dataset(\"/archive/Raphael.Dussin/datasets/OM4p125/mosaic_c192_om4p125_bedmachine_v20210310_hydrographyKDunne20210614_unpacked/ocean_hgrid.nc\")\n",
    "    zdiag_path = \"/archive/Raphael.Dussin/FMS2019.01.03_devgfdl_20210706/CM4_piControl_c192_OM4p125_v7/gfdl.ncrc4-intel18-prod-openmp/pp/ocean_annual_z/\"\n",
    "    ocean_grid = xr.open_dataset(f\"{zdiag_path}ocean_annual_z.static.nc\")\n",
    "    ocean_grid = ocean_grid.assign_coords({\n",
    "        'geolon'  : xr.DataArray(sg['x'][1::2,1::2].data, dims=[\"yh\", \"xh\"]),\n",
    "        'geolat'  : xr.DataArray(sg['y'][1::2,1::2].data, dims=[\"yh\", \"xh\"]),\n",
    "        'geolon_u': xr.DataArray(sg['x'][1::2,0::2].data, dims=[\"yh\", \"xq\"]),\n",
    "        'geolat_u': xr.DataArray(sg['y'][1::2,0::2].data, dims=[\"yh\", \"xq\"]),\n",
    "        'geolon_v': xr.DataArray(sg['x'][0::2,1::2].data, dims=[\"yq\", \"xh\"]),\n",
    "        'geolat_v': xr.DataArray(sg['y'][0::2,1::2].data, dims=[\"yq\", \"xh\"]),\n",
    "        'geolon_c': xr.DataArray(sg['x'][0::2,0::2].data, dims=[\"yq\", \"xq\"]),\n",
    "        'geolat_c': xr.DataArray(sg['y'][0::2,0::2].data, dims=[\"yq\", \"xq\"])\n",
    "    })\n",
    "\n",
    "    coords={\n",
    "        'X': {'center': 'xh', 'outer': 'xq'},\n",
    "        'Y': {'center': 'yh', 'outer': 'yq'},\n",
    "    }\n",
    "    grid = xgcm.Grid(ocean_grid, coords=coords, periodic=[\"X\"])"
   ]
  },
  {
   "cell_type": "code",
   "execution_count": 29,
   "id": "1bd4c9cf-c929-4964-be26-ec42a5ca08ba",
   "metadata": {},
   "outputs": [
    {
     "name": "stdout",
     "output_type": "stream",
     "text": [
      "Conforming regions to ocean grid: 10, 11, 12, 13, 14, 15, 16, 17, 18, 19, 1, 20, 21, 22, 23, 24, 25, 26, 27, 28, 29, 2, 30, 31, 32, 33, 3, 4, 5, 6, 7, 8, 9, 35, 34, 36, 37, "
     ]
    }
   ],
   "source": [
    "region_gridded = reg.GriddedRegions({}, grid)\n",
    "\n",
    "# Conform basin boundaries to model grid\n",
    "print(\"Conforming regions to ocean grid: \", end=\"\")\n",
    "for (rname, r) in region.regions.items():\n",
    "    print(rname, end=\", \")\n",
    "    region_gridded.regions[rname] = reg.GriddedRegion(\n",
    "        rname,\n",
    "        r.lons,\n",
    "        r.lats,\n",
    "        grid,\n",
    "        positive_in=r.counterclockwise\n",
    "    )"
   ]
  },
  {
   "cell_type": "code",
   "execution_count": 30,
   "id": "5dc862b2-9e1f-4070-9f9a-4ec9ecb5698d",
   "metadata": {},
   "outputs": [
    {
     "ename": "PicklingError",
     "evalue": "Can't pickle <class 'regionate.region.GriddedRegion'>: it's not the same object as regionate.region.GriddedRegion",
     "output_type": "error",
     "traceback": [
      "\u001b[0;31m---------------------------------------------------------------------------\u001b[0m",
      "\u001b[0;31mPicklingError\u001b[0m                             Traceback (most recent call last)",
      "Cell \u001b[0;32mIn [30], line 4\u001b[0m\n\u001b[1;32m      2\u001b[0m regionFile \u001b[38;5;241m=\u001b[39m \u001b[38;5;124m\"\u001b[39m\u001b[38;5;124m/work/hfd/datasets/regionate/pickled_regions/PJ2010_region_gridded_CM4p125\u001b[39m\u001b[38;5;124m\"\u001b[39m\n\u001b[1;32m      3\u001b[0m \u001b[38;5;28;01mwith\u001b[39;00m \u001b[38;5;28mopen\u001b[39m(regionFile, \u001b[38;5;124m'\u001b[39m\u001b[38;5;124mwb\u001b[39m\u001b[38;5;124m'\u001b[39m) \u001b[38;5;28;01mas\u001b[39;00m pickle_file:\n\u001b[0;32m----> 4\u001b[0m     \u001b[43mpickle\u001b[49m\u001b[38;5;241;43m.\u001b[39;49m\u001b[43mdump\u001b[49m\u001b[43m(\u001b[49m\u001b[43mregion_gridded\u001b[49m\u001b[43m,\u001b[49m\u001b[43m \u001b[49m\u001b[43mpickle_file\u001b[49m\u001b[43m)\u001b[49m\n",
      "\u001b[0;31mPicklingError\u001b[0m: Can't pickle <class 'regionate.region.GriddedRegion'>: it's not the same object as regionate.region.GriddedRegion"
     ]
    }
   ],
   "source": [
    "# `pickle` boundary indices and area mask\n",
    "regionFile = \"/work/hfd/datasets/regionate/pickled_regions/PJ2010_region_gridded_CM4p125\"\n",
    "with open(regionFile, 'wb') as pickle_file:\n",
    "    pickle.dump(region_gridded, pickle_file)"
   ]
  },
  {
   "cell_type": "code",
   "execution_count": 31,
   "id": "3786b107-ef69-41f8-bc85-9896d26c280d",
   "metadata": {},
   "outputs": [
    {
     "data": {
      "text/plain": [
       "<regionate.regions.GriddedRegions at 0x2af211d9ee30>"
      ]
     },
     "execution_count": 31,
     "metadata": {},
     "output_type": "execute_result"
    }
   ],
   "source": [
    "region_gridded"
   ]
  },
  {
   "cell_type": "code",
   "execution_count": null,
   "id": "4c1d6e4d-8256-42ff-bf7e-518a332d77cb",
   "metadata": {},
   "outputs": [],
   "source": []
  }
 ],
 "metadata": {
  "kernelspec": {
   "display_name": "Python 3 (ipykernel)",
   "language": "python",
   "name": "python3"
  },
  "language_info": {
   "codemirror_mode": {
    "name": "ipython",
    "version": 3
   },
   "file_extension": ".py",
   "mimetype": "text/x-python",
   "name": "python",
   "nbconvert_exporter": "python",
   "pygments_lexer": "ipython3",
   "version": "3.10.6"
  }
 },
 "nbformat": 4,
 "nbformat_minor": 5
}
