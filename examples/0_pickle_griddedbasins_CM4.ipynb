{
 "cells": [
  {
   "cell_type": "code",
   "execution_count": 1,
   "id": "948f8ff0-3b46-49c7-a030-5f5094d8f956",
   "metadata": {},
   "outputs": [],
   "source": [
    "%load_ext autoreload\n",
    "%autoreload 2"
   ]
  },
  {
   "cell_type": "code",
   "execution_count": 2,
   "id": "f9e2d992-7460-4b23-a787-978c390d7a12",
   "metadata": {},
   "outputs": [],
   "source": [
    "import regionate as reg\n",
    "import sectionate as sec"
   ]
  },
  {
   "cell_type": "code",
   "execution_count": 3,
   "id": "6aeeb56e-2456-4542-b96b-c1df230a41ee",
   "metadata": {},
   "outputs": [],
   "source": [
    "import numpy as np\n",
    "import xgcm\n",
    "import xarray as xr\n",
    "import matplotlib.pyplot as plt"
   ]
  },
  {
   "cell_type": "code",
   "execution_count": 4,
   "id": "8b877997-ae29-455b-b467-a8609b5e627f",
   "metadata": {},
   "outputs": [],
   "source": [
    "import pickle"
   ]
  },
  {
   "cell_type": "markdown",
   "id": "e47f09d8-e3dd-4a46-99da-fc059e4319b2",
   "metadata": {},
   "source": [
    "## Load basin boundaries as an instance of `regionate.Regions` consisting of 35 instances of `regionate.Region`"
   ]
  },
  {
   "cell_type": "code",
   "execution_count": 5,
   "id": "4efa70e7-4188-4028-982f-892e0c61c59d",
   "metadata": {},
   "outputs": [],
   "source": [
    "import scipy.io\n",
    "basins = scipy.io.loadmat('boundaries/PJ2010_abyssal_basin_boundaries.mat', simplify_cells=True, squeeze_me=True)['bsn_only']\n",
    "region = reg.Regions({\n",
    "    str(r['bsn_num'].replace(\"_\", \"\")):\n",
    "    reg.Region(\n",
    "        str(r['bsn_num'].replace(\"_\", \"\")),\n",
    "        r['bsn'][0],\n",
    "        r['bsn'][1]\n",
    "    )\n",
    "    for r in basins\n",
    "})\n",
    "    \n",
    "# Slightly shift coordinates off of supergrid nodes to avoid rounding errors\n",
    "for rname, r in region.regions.items():\n",
    "    r.lons -= 1.e-5\n",
    "    r.lats -= 1.e-5"
   ]
  },
  {
   "cell_type": "markdown",
   "id": "2d8419d3-c53d-4e9b-9e95-6829afb046dd",
   "metadata": {},
   "source": [
    "## Conform regions to CM4p25 grid"
   ]
  },
  {
   "cell_type": "code",
   "execution_count": 6,
   "id": "0e9ad32a-f189-488b-9403-dcb3f6dc4c25",
   "metadata": {},
   "outputs": [],
   "source": [
    "import warnings\n",
    "with warnings.catch_warnings():\n",
    "    warnings.filterwarnings(\"ignore\")\n",
    "\n",
    "    # get correct geo coords from super grid\n",
    "    sg = xr.open_dataset(\"/archive/Raphael.Dussin/datasets/OM4p25/c192_OM4_025_grid_No_mg_drag_v20160808_unpacked/ocean_hgrid.nc\")\n",
    "    zdiag_path = \"/archive/Raphael.Dussin/FMS2019.01.03_devgfdl_20210706/CM4_piControl_c192_OM4p25_v7_allfixes/gfdl.ncrc4-intel18-prod-openmp/pp/ocean_annual_z/\"\n",
    "    ocean_grid = xr.open_dataset(f\"{zdiag_path}ocean_annual_z.static.nc\")\n",
    "    ocean_grid = ocean_grid.assign_coords({\n",
    "        'geolon'  : xr.DataArray(sg['x'][1::2,1::2].data, dims=[\"yh\", \"xh\"]),\n",
    "        'geolat'  : xr.DataArray(sg['y'][1::2,1::2].data, dims=[\"yh\", \"xh\"]),\n",
    "        'geolon_u': xr.DataArray(sg['x'][1::2,0::2].data, dims=[\"yh\", \"xq\"]),\n",
    "        'geolat_u': xr.DataArray(sg['y'][1::2,0::2].data, dims=[\"yh\", \"xq\"]),\n",
    "        'geolon_v': xr.DataArray(sg['x'][0::2,1::2].data, dims=[\"yq\", \"xh\"]),\n",
    "        'geolat_v': xr.DataArray(sg['y'][0::2,1::2].data, dims=[\"yq\", \"xh\"]),\n",
    "        'geolon_c': xr.DataArray(sg['x'][0::2,0::2].data, dims=[\"yq\", \"xq\"]),\n",
    "        'geolat_c': xr.DataArray(sg['y'][0::2,0::2].data, dims=[\"yq\", \"xq\"])\n",
    "    })\n",
    "    \n",
    "    coords={\n",
    "        'X': {'center': 'xh', 'outer': 'xq'},\n",
    "        'Y': {'center': 'yh', 'outer': 'yq'},\n",
    "    }\n",
    "    grid = xgcm.Grid(ocean_grid, coords=coords, periodic=(\"X\"))"
   ]
  },
  {
   "cell_type": "code",
   "execution_count": 7,
   "id": "f29a7f66-d246-44d5-9148-32340da3efcc",
   "metadata": {},
   "outputs": [
    {
     "name": "stdout",
     "output_type": "stream",
     "text": [
      "Conforming regions to ocean grid: 10, 11, 12, 13, 14, 15, 16, 17, 18, 19, 1, "
     ]
    },
    {
     "ename": "IndexError",
     "evalue": "index 1440 is out of bounds for axis 1 with size 1440",
     "output_type": "error",
     "traceback": [
      "\u001b[0;31m---------------------------------------------------------------------------\u001b[0m",
      "\u001b[0;31mIndexError\u001b[0m                                Traceback (most recent call last)",
      "Cell \u001b[0;32mIn [7], line 7\u001b[0m\n\u001b[1;32m      5\u001b[0m \u001b[38;5;28;01mfor\u001b[39;00m (rname, r) \u001b[38;5;129;01min\u001b[39;00m region\u001b[38;5;241m.\u001b[39mregions\u001b[38;5;241m.\u001b[39mitems():\n\u001b[1;32m      6\u001b[0m     \u001b[38;5;28mprint\u001b[39m(rname, end\u001b[38;5;241m=\u001b[39m\u001b[38;5;124m\"\u001b[39m\u001b[38;5;124m, \u001b[39m\u001b[38;5;124m\"\u001b[39m)\n\u001b[0;32m----> 7\u001b[0m     region_gridded\u001b[38;5;241m.\u001b[39mregions[rname] \u001b[38;5;241m=\u001b[39m \u001b[43mreg\u001b[49m\u001b[38;5;241;43m.\u001b[39;49m\u001b[43mGriddedRegion\u001b[49m\u001b[43m(\u001b[49m\n\u001b[1;32m      8\u001b[0m \u001b[43m        \u001b[49m\u001b[43mrname\u001b[49m\u001b[43m,\u001b[49m\n\u001b[1;32m      9\u001b[0m \u001b[43m        \u001b[49m\u001b[43mr\u001b[49m\u001b[38;5;241;43m.\u001b[39;49m\u001b[43mlons\u001b[49m\u001b[43m,\u001b[49m\n\u001b[1;32m     10\u001b[0m \u001b[43m        \u001b[49m\u001b[43mr\u001b[49m\u001b[38;5;241;43m.\u001b[39;49m\u001b[43mlats\u001b[49m\u001b[43m,\u001b[49m\n\u001b[1;32m     11\u001b[0m \u001b[43m        \u001b[49m\u001b[43mgrid\u001b[49m\u001b[43m,\u001b[49m\n\u001b[1;32m     12\u001b[0m \u001b[43m        \u001b[49m\u001b[43mpositive_in\u001b[49m\u001b[38;5;241;43m=\u001b[39;49m\u001b[43mr\u001b[49m\u001b[38;5;241;43m.\u001b[39;49m\u001b[43mcounterclockwise\u001b[49m\n\u001b[1;32m     13\u001b[0m \u001b[43m    \u001b[49m\u001b[43m)\u001b[49m\n",
      "File \u001b[0;32m~/src/regionate/regionate/region.py:69\u001b[0m, in \u001b[0;36mGriddedRegion.__init__\u001b[0;34m(self, name, lons, lats, grid, positive_in, mask)\u001b[0m\n\u001b[1;32m     66\u001b[0m \u001b[38;5;28mself\u001b[39m\u001b[38;5;241m.\u001b[39mgrid \u001b[38;5;241m=\u001b[39m grid\n\u001b[1;32m     68\u001b[0m \u001b[38;5;28;01mif\u001b[39;00m \u001b[38;5;28mlen\u001b[39m(lons)\u001b[38;5;241m>\u001b[39m\u001b[38;5;241m=\u001b[39m\u001b[38;5;241m3\u001b[39m \u001b[38;5;129;01mand\u001b[39;00m \u001b[38;5;28mlen\u001b[39m(lats)\u001b[38;5;241m>\u001b[39m\u001b[38;5;241m=\u001b[39m\u001b[38;5;241m3\u001b[39m:\n\u001b[0;32m---> 69\u001b[0m     \u001b[38;5;28;43mself\u001b[39;49m\u001b[38;5;241;43m.\u001b[39;49m\u001b[43minitiate_from_boundary\u001b[49m\u001b[43m(\u001b[49m\u001b[43mlons\u001b[49m\u001b[43m,\u001b[49m\u001b[43m \u001b[49m\u001b[43mlats\u001b[49m\u001b[43m,\u001b[49m\u001b[43m \u001b[49m\u001b[43mmask\u001b[49m\u001b[38;5;241;43m=\u001b[39;49m\u001b[43mmask\u001b[49m\u001b[43m,\u001b[49m\u001b[43m \u001b[49m\u001b[43mpositive_in\u001b[49m\u001b[38;5;241;43m=\u001b[39;49m\u001b[43mpositive_in\u001b[49m\u001b[43m)\u001b[49m\n\u001b[1;32m     70\u001b[0m \u001b[38;5;28;01melse\u001b[39;00m:\n\u001b[1;32m     71\u001b[0m     \u001b[38;5;28;01mraise\u001b[39;00m \u001b[38;5;167;01mNameError\u001b[39;00m(\u001b[38;5;124m\"\u001b[39m\u001b[38;5;124mMust provide lons and lats as lists or arrays\u001b[39m\u001b[38;5;130;01m\\\u001b[39;00m\n\u001b[1;32m     72\u001b[0m \u001b[38;5;124m    to define the region.\u001b[39m\u001b[38;5;124m\"\u001b[39m)\n",
      "File \u001b[0;32m~/src/regionate/regionate/region.py:89\u001b[0m, in \u001b[0;36mGriddedRegion.initiate_from_boundary\u001b[0;34m(self, lons, lats, positive_in, mask)\u001b[0m\n\u001b[1;32m     80\u001b[0m \u001b[38;5;28;01mdef\u001b[39;00m \u001b[38;5;21minitiate_from_boundary\u001b[39m(\n\u001b[1;32m     81\u001b[0m     \u001b[38;5;28mself\u001b[39m,\n\u001b[1;32m     82\u001b[0m     lons,\n\u001b[0;32m   (...)\u001b[0m\n\u001b[1;32m     85\u001b[0m     mask\u001b[38;5;241m=\u001b[39m\u001b[38;5;28;01mNone\u001b[39;00m,\n\u001b[1;32m     86\u001b[0m     ):\n\u001b[1;32m     88\u001b[0m     \u001b[38;5;28mself\u001b[39m\u001b[38;5;241m.\u001b[39mi, \u001b[38;5;28mself\u001b[39m\u001b[38;5;241m.\u001b[39mj, \u001b[38;5;28mself\u001b[39m\u001b[38;5;241m.\u001b[39mlons, \u001b[38;5;28mself\u001b[39m\u001b[38;5;241m.\u001b[39mlats, \u001b[38;5;28mself\u001b[39m\u001b[38;5;241m.\u001b[39mlons_uv, \u001b[38;5;28mself\u001b[39m\u001b[38;5;241m.\u001b[39mlats_uv \u001b[38;5;241m=\u001b[39m (\n\u001b[0;32m---> 89\u001b[0m         \u001b[43mget_region_boundary_grid_indices\u001b[49m\u001b[43m(\u001b[49m\n\u001b[1;32m     90\u001b[0m \u001b[43m            \u001b[49m\u001b[43mlons\u001b[49m\u001b[38;5;241;43m.\u001b[39;49m\u001b[43mcopy\u001b[49m\u001b[43m(\u001b[49m\u001b[43m)\u001b[49m\u001b[43m,\u001b[49m\n\u001b[1;32m     91\u001b[0m \u001b[43m            \u001b[49m\u001b[43mlats\u001b[49m\u001b[38;5;241;43m.\u001b[39;49m\u001b[43mcopy\u001b[49m\u001b[43m(\u001b[49m\u001b[43m)\u001b[49m\u001b[43m,\u001b[49m\n\u001b[1;32m     92\u001b[0m \u001b[43m            \u001b[49m\u001b[38;5;28;43mself\u001b[39;49m\u001b[38;5;241;43m.\u001b[39;49m\u001b[43mgrid\u001b[49m\u001b[43m,\u001b[49m\n\u001b[1;32m     93\u001b[0m \u001b[43m        \u001b[49m\u001b[43m)\u001b[49m\n\u001b[1;32m     94\u001b[0m     )\n\u001b[1;32m     95\u001b[0m     \u001b[38;5;28;01mif\u001b[39;00m mask \u001b[38;5;129;01mis\u001b[39;00m \u001b[38;5;28;01mNone\u001b[39;00m:\n\u001b[1;32m     96\u001b[0m         mask \u001b[38;5;241m=\u001b[39m mask_from_grid_boundaries(\n\u001b[1;32m     97\u001b[0m             \u001b[38;5;28mself\u001b[39m\u001b[38;5;241m.\u001b[39mlons,\n\u001b[1;32m     98\u001b[0m             \u001b[38;5;28mself\u001b[39m\u001b[38;5;241m.\u001b[39mlats,\n\u001b[1;32m     99\u001b[0m             \u001b[38;5;28mself\u001b[39m\u001b[38;5;241m.\u001b[39mgrid\n\u001b[1;32m    100\u001b[0m         )\n",
      "File \u001b[0;32m~/src/regionate/regionate/grid_conform.py:27\u001b[0m, in \u001b[0;36mget_region_boundary_grid_indices\u001b[0;34m(lons, lats, grid)\u001b[0m\n\u001b[1;32m     19\u001b[0m i, j, lons_c, lats_c \u001b[38;5;241m=\u001b[39m sec\u001b[38;5;241m.\u001b[39mgrid_section(\n\u001b[1;32m     20\u001b[0m     grid,\n\u001b[1;32m     21\u001b[0m     lons,\n\u001b[1;32m     22\u001b[0m     lats,\n\u001b[1;32m     23\u001b[0m )\n\u001b[1;32m     25\u001b[0m uvindices \u001b[38;5;241m=\u001b[39m sec\u001b[38;5;241m.\u001b[39muvindices_from_qindices(grid, i, j)\n\u001b[0;32m---> 27\u001b[0m lons_uv, lats_uv \u001b[38;5;241m=\u001b[39m \u001b[43msec\u001b[49m\u001b[38;5;241;43m.\u001b[39;49m\u001b[43muvcoords_from_uvindices\u001b[49m\u001b[43m(\u001b[49m\n\u001b[1;32m     28\u001b[0m \u001b[43m    \u001b[49m\u001b[43mgrid\u001b[49m\u001b[43m,\u001b[49m\n\u001b[1;32m     29\u001b[0m \u001b[43m    \u001b[49m\u001b[43muvindices\u001b[49m\n\u001b[1;32m     30\u001b[0m \u001b[43m\u001b[49m\u001b[43m)\u001b[49m\n\u001b[1;32m     32\u001b[0m \u001b[38;5;28;01mreturn\u001b[39;00m (i, j, lons_c[:\u001b[38;5;241m-\u001b[39m\u001b[38;5;241m1\u001b[39m], lats_c[:\u001b[38;5;241m-\u001b[39m\u001b[38;5;241m1\u001b[39m], lons_uv, lats_uv)\n",
      "File \u001b[0;32m~/src/sectionate/sectionate/transports.py:99\u001b[0m, in \u001b[0;36muvcoords_from_uvindices\u001b[0;34m(grid, uvindices)\u001b[0m\n\u001b[1;32m     94\u001b[0m \u001b[38;5;28;01mif\u001b[39;00m (\u001b[38;5;124mf\u001b[39m\u001b[38;5;124m\"\u001b[39m\u001b[38;5;124mgeolon_v\u001b[39m\u001b[38;5;124m\"\u001b[39m \u001b[38;5;129;01min\u001b[39;00m vnames) \u001b[38;5;129;01mand\u001b[39;00m (\u001b[38;5;124mf\u001b[39m\u001b[38;5;124m\"\u001b[39m\u001b[38;5;124mgeolat_v\u001b[39m\u001b[38;5;124m\"\u001b[39m \u001b[38;5;129;01min\u001b[39;00m vnames):\n\u001b[1;32m     95\u001b[0m     lon \u001b[38;5;241m=\u001b[39m ds[vnames[\u001b[38;5;124mf\u001b[39m\u001b[38;5;124m\"\u001b[39m\u001b[38;5;124mgeolon_v\u001b[39m\u001b[38;5;124m\"\u001b[39m]]\u001b[38;5;241m.\u001b[39misel({\n\u001b[1;32m     96\u001b[0m         coords[\u001b[38;5;124m\"\u001b[39m\u001b[38;5;124mX\u001b[39m\u001b[38;5;124m\"\u001b[39m][\u001b[38;5;124m\"\u001b[39m\u001b[38;5;124mh\u001b[39m\u001b[38;5;124m\"\u001b[39m]:wrap_idx(i, grid, \u001b[38;5;124m\"\u001b[39m\u001b[38;5;124mX\u001b[39m\u001b[38;5;124m\"\u001b[39m),\n\u001b[1;32m     97\u001b[0m         coords[\u001b[38;5;124m\"\u001b[39m\u001b[38;5;124mY\u001b[39m\u001b[38;5;124m\"\u001b[39m][\u001b[38;5;124m\"\u001b[39m\u001b[38;5;124mq\u001b[39m\u001b[38;5;124m\"\u001b[39m]:j\n\u001b[1;32m     98\u001b[0m     })\u001b[38;5;241m.\u001b[39mvalues\n\u001b[0;32m---> 99\u001b[0m     lat \u001b[38;5;241m=\u001b[39m \u001b[43mds\u001b[49m\u001b[43m[\u001b[49m\u001b[43mvnames\u001b[49m\u001b[43m[\u001b[49m\u001b[38;5;124;43mf\u001b[39;49m\u001b[38;5;124;43m\"\u001b[39;49m\u001b[38;5;124;43mgeolat_v\u001b[39;49m\u001b[38;5;124;43m\"\u001b[39;49m\u001b[43m]\u001b[49m\u001b[43m]\u001b[49m\u001b[38;5;241;43m.\u001b[39;49m\u001b[43misel\u001b[49m\u001b[43m(\u001b[49m\u001b[43m{\u001b[49m\n\u001b[1;32m    100\u001b[0m \u001b[43m        \u001b[49m\u001b[43mcoords\u001b[49m\u001b[43m[\u001b[49m\u001b[38;5;124;43m\"\u001b[39;49m\u001b[38;5;124;43mX\u001b[39;49m\u001b[38;5;124;43m\"\u001b[39;49m\u001b[43m]\u001b[49m\u001b[43m[\u001b[49m\u001b[38;5;124;43m\"\u001b[39;49m\u001b[38;5;124;43mh\u001b[39;49m\u001b[38;5;124;43m\"\u001b[39;49m\u001b[43m]\u001b[49m\u001b[43m:\u001b[49m\u001b[43mi\u001b[49m\u001b[43m,\u001b[49m\n\u001b[1;32m    101\u001b[0m \u001b[43m        \u001b[49m\u001b[43mcoords\u001b[49m\u001b[43m[\u001b[49m\u001b[38;5;124;43m\"\u001b[39;49m\u001b[38;5;124;43mY\u001b[39;49m\u001b[38;5;124;43m\"\u001b[39;49m\u001b[43m]\u001b[49m\u001b[43m[\u001b[49m\u001b[38;5;124;43m\"\u001b[39;49m\u001b[38;5;124;43mq\u001b[39;49m\u001b[38;5;124;43m\"\u001b[39;49m\u001b[43m]\u001b[49m\u001b[43m:\u001b[49m\u001b[43mj\u001b[49m\n\u001b[1;32m    102\u001b[0m \u001b[43m    \u001b[49m\u001b[43m}\u001b[49m\u001b[43m)\u001b[49m\u001b[38;5;241m.\u001b[39mvalues\n\u001b[1;32m    103\u001b[0m \u001b[38;5;28;01melif\u001b[39;00m (\u001b[38;5;124mf\u001b[39m\u001b[38;5;124m\"\u001b[39m\u001b[38;5;124mgeolon_h\u001b[39m\u001b[38;5;124m\"\u001b[39m \u001b[38;5;129;01min\u001b[39;00m hnames) \u001b[38;5;129;01mand\u001b[39;00m (\u001b[38;5;124mf\u001b[39m\u001b[38;5;124m\"\u001b[39m\u001b[38;5;124mgeolat_q\u001b[39m\u001b[38;5;124m\"\u001b[39m \u001b[38;5;129;01min\u001b[39;00m qnames):\n\u001b[1;32m    104\u001b[0m     lon \u001b[38;5;241m=\u001b[39m ds[hnames[\u001b[38;5;124mf\u001b[39m\u001b[38;5;124m\"\u001b[39m\u001b[38;5;124mgeolon_h\u001b[39m\u001b[38;5;124m\"\u001b[39m]]\u001b[38;5;241m.\u001b[39misel({\n\u001b[1;32m    105\u001b[0m         coords[\u001b[38;5;124m\"\u001b[39m\u001b[38;5;124mX\u001b[39m\u001b[38;5;124m\"\u001b[39m][\u001b[38;5;124m\"\u001b[39m\u001b[38;5;124mh\u001b[39m\u001b[38;5;124m\"\u001b[39m]:wrap_idx(i, grid, \u001b[38;5;124m\"\u001b[39m\u001b[38;5;124mX\u001b[39m\u001b[38;5;124m\"\u001b[39m),\n\u001b[1;32m    106\u001b[0m         coords[\u001b[38;5;124m\"\u001b[39m\u001b[38;5;124mY\u001b[39m\u001b[38;5;124m\"\u001b[39m][\u001b[38;5;124m\"\u001b[39m\u001b[38;5;124mh\u001b[39m\u001b[38;5;124m\"\u001b[39m]:wrap_idx(j, grid, \u001b[38;5;124m\"\u001b[39m\u001b[38;5;124mY\u001b[39m\u001b[38;5;124m\"\u001b[39m)\n\u001b[1;32m    107\u001b[0m     })\u001b[38;5;241m.\u001b[39mvalues\n",
      "File \u001b[0;32m/work/hfd/.conda/envs/generic-xstack/lib/python3.10/site-packages/xarray/core/dataarray.py:1390\u001b[0m, in \u001b[0;36mDataArray.isel\u001b[0;34m(self, indexers, drop, missing_dims, **indexers_kwargs)\u001b[0m\n\u001b[1;32m   1387\u001b[0m indexers \u001b[38;5;241m=\u001b[39m either_dict_or_kwargs(indexers, indexers_kwargs, \u001b[38;5;124m\"\u001b[39m\u001b[38;5;124misel\u001b[39m\u001b[38;5;124m\"\u001b[39m)\n\u001b[1;32m   1389\u001b[0m \u001b[38;5;28;01mif\u001b[39;00m \u001b[38;5;28many\u001b[39m(is_fancy_indexer(idx) \u001b[38;5;28;01mfor\u001b[39;00m idx \u001b[38;5;129;01min\u001b[39;00m indexers\u001b[38;5;241m.\u001b[39mvalues()):\n\u001b[0;32m-> 1390\u001b[0m     ds \u001b[38;5;241m=\u001b[39m \u001b[38;5;28;43mself\u001b[39;49m\u001b[38;5;241;43m.\u001b[39;49m\u001b[43m_to_temp_dataset\u001b[49m\u001b[43m(\u001b[49m\u001b[43m)\u001b[49m\u001b[38;5;241;43m.\u001b[39;49m\u001b[43m_isel_fancy\u001b[49m\u001b[43m(\u001b[49m\n\u001b[1;32m   1391\u001b[0m \u001b[43m        \u001b[49m\u001b[43mindexers\u001b[49m\u001b[43m,\u001b[49m\u001b[43m \u001b[49m\u001b[43mdrop\u001b[49m\u001b[38;5;241;43m=\u001b[39;49m\u001b[43mdrop\u001b[49m\u001b[43m,\u001b[49m\u001b[43m \u001b[49m\u001b[43mmissing_dims\u001b[49m\u001b[38;5;241;43m=\u001b[39;49m\u001b[43mmissing_dims\u001b[49m\n\u001b[1;32m   1392\u001b[0m \u001b[43m    \u001b[49m\u001b[43m)\u001b[49m\n\u001b[1;32m   1393\u001b[0m     \u001b[38;5;28;01mreturn\u001b[39;00m \u001b[38;5;28mself\u001b[39m\u001b[38;5;241m.\u001b[39m_from_temp_dataset(ds)\n\u001b[1;32m   1395\u001b[0m \u001b[38;5;66;03m# Much faster algorithm for when all indexers are ints, slices, one-dimensional\u001b[39;00m\n\u001b[1;32m   1396\u001b[0m \u001b[38;5;66;03m# lists, or zero or one-dimensional np.ndarray's\u001b[39;00m\n",
      "File \u001b[0;32m/work/hfd/.conda/envs/generic-xstack/lib/python3.10/site-packages/xarray/core/dataset.py:2475\u001b[0m, in \u001b[0;36mDataset._isel_fancy\u001b[0;34m(self, indexers, drop, missing_dims)\u001b[0m\n\u001b[1;32m   2471\u001b[0m var_indexers \u001b[38;5;241m=\u001b[39m {\n\u001b[1;32m   2472\u001b[0m     k: v \u001b[38;5;28;01mfor\u001b[39;00m k, v \u001b[38;5;129;01min\u001b[39;00m valid_indexers\u001b[38;5;241m.\u001b[39mitems() \u001b[38;5;28;01mif\u001b[39;00m k \u001b[38;5;129;01min\u001b[39;00m var\u001b[38;5;241m.\u001b[39mdims\n\u001b[1;32m   2473\u001b[0m }\n\u001b[1;32m   2474\u001b[0m \u001b[38;5;28;01mif\u001b[39;00m var_indexers:\n\u001b[0;32m-> 2475\u001b[0m     new_var \u001b[38;5;241m=\u001b[39m \u001b[43mvar\u001b[49m\u001b[38;5;241;43m.\u001b[39;49m\u001b[43misel\u001b[49m\u001b[43m(\u001b[49m\u001b[43mindexers\u001b[49m\u001b[38;5;241;43m=\u001b[39;49m\u001b[43mvar_indexers\u001b[49m\u001b[43m)\u001b[49m\n\u001b[1;32m   2476\u001b[0m     \u001b[38;5;66;03m# drop scalar coordinates\u001b[39;00m\n\u001b[1;32m   2477\u001b[0m     \u001b[38;5;66;03m# https://github.com/pydata/xarray/issues/6554\u001b[39;00m\n\u001b[1;32m   2478\u001b[0m     \u001b[38;5;28;01mif\u001b[39;00m name \u001b[38;5;129;01min\u001b[39;00m \u001b[38;5;28mself\u001b[39m\u001b[38;5;241m.\u001b[39mcoords \u001b[38;5;129;01mand\u001b[39;00m drop \u001b[38;5;129;01mand\u001b[39;00m new_var\u001b[38;5;241m.\u001b[39mndim \u001b[38;5;241m==\u001b[39m \u001b[38;5;241m0\u001b[39m:\n",
      "File \u001b[0;32m/work/hfd/.conda/envs/generic-xstack/lib/python3.10/site-packages/xarray/core/variable.py:1322\u001b[0m, in \u001b[0;36mVariable.isel\u001b[0;34m(self, indexers, missing_dims, **indexers_kwargs)\u001b[0m\n\u001b[1;32m   1319\u001b[0m indexers \u001b[38;5;241m=\u001b[39m drop_dims_from_indexers(indexers, \u001b[38;5;28mself\u001b[39m\u001b[38;5;241m.\u001b[39mdims, missing_dims)\n\u001b[1;32m   1321\u001b[0m key \u001b[38;5;241m=\u001b[39m \u001b[38;5;28mtuple\u001b[39m(indexers\u001b[38;5;241m.\u001b[39mget(dim, \u001b[38;5;28mslice\u001b[39m(\u001b[38;5;28;01mNone\u001b[39;00m)) \u001b[38;5;28;01mfor\u001b[39;00m dim \u001b[38;5;129;01min\u001b[39;00m \u001b[38;5;28mself\u001b[39m\u001b[38;5;241m.\u001b[39mdims)\n\u001b[0;32m-> 1322\u001b[0m \u001b[38;5;28;01mreturn\u001b[39;00m \u001b[38;5;28;43mself\u001b[39;49m\u001b[43m[\u001b[49m\u001b[43mkey\u001b[49m\u001b[43m]\u001b[49m\n",
      "File \u001b[0;32m/work/hfd/.conda/envs/generic-xstack/lib/python3.10/site-packages/xarray/core/variable.py:870\u001b[0m, in \u001b[0;36mVariable.__getitem__\u001b[0;34m(self, key)\u001b[0m\n\u001b[1;32m    857\u001b[0m \u001b[38;5;124;03m\"\"\"Return a new Variable object whose contents are consistent with\u001b[39;00m\n\u001b[1;32m    858\u001b[0m \u001b[38;5;124;03mgetting the provided key from the underlying data.\u001b[39;00m\n\u001b[1;32m    859\u001b[0m \n\u001b[0;32m   (...)\u001b[0m\n\u001b[1;32m    867\u001b[0m \u001b[38;5;124;03marray `x.values` directly.\u001b[39;00m\n\u001b[1;32m    868\u001b[0m \u001b[38;5;124;03m\"\"\"\u001b[39;00m\n\u001b[1;32m    869\u001b[0m dims, indexer, new_order \u001b[38;5;241m=\u001b[39m \u001b[38;5;28mself\u001b[39m\u001b[38;5;241m.\u001b[39m_broadcast_indexes(key)\n\u001b[0;32m--> 870\u001b[0m data \u001b[38;5;241m=\u001b[39m \u001b[43mas_indexable\u001b[49m\u001b[43m(\u001b[49m\u001b[38;5;28;43mself\u001b[39;49m\u001b[38;5;241;43m.\u001b[39;49m\u001b[43m_data\u001b[49m\u001b[43m)\u001b[49m\u001b[43m[\u001b[49m\u001b[43mindexer\u001b[49m\u001b[43m]\u001b[49m\n\u001b[1;32m    871\u001b[0m \u001b[38;5;28;01mif\u001b[39;00m new_order:\n\u001b[1;32m    872\u001b[0m     data \u001b[38;5;241m=\u001b[39m np\u001b[38;5;241m.\u001b[39mmoveaxis(data, \u001b[38;5;28mrange\u001b[39m(\u001b[38;5;28mlen\u001b[39m(new_order)), new_order)\n",
      "File \u001b[0;32m/work/hfd/.conda/envs/generic-xstack/lib/python3.10/site-packages/xarray/core/indexing.py:1264\u001b[0m, in \u001b[0;36mNumpyIndexingAdapter.__getitem__\u001b[0;34m(self, key)\u001b[0m\n\u001b[1;32m   1262\u001b[0m \u001b[38;5;28;01mdef\u001b[39;00m \u001b[38;5;21m__getitem__\u001b[39m(\u001b[38;5;28mself\u001b[39m, key):\n\u001b[1;32m   1263\u001b[0m     array, key \u001b[38;5;241m=\u001b[39m \u001b[38;5;28mself\u001b[39m\u001b[38;5;241m.\u001b[39m_indexing_array_and_key(key)\n\u001b[0;32m-> 1264\u001b[0m     \u001b[38;5;28;01mreturn\u001b[39;00m \u001b[43marray\u001b[49m\u001b[43m[\u001b[49m\u001b[43mkey\u001b[49m\u001b[43m]\u001b[49m\n",
      "\u001b[0;31mIndexError\u001b[0m: index 1440 is out of bounds for axis 1 with size 1440"
     ]
    }
   ],
   "source": [
    "region_gridded = reg.GriddedRegions({}, grid)\n",
    "\n",
    "# Conform basin boundaries to model grid\n",
    "print(\"Conforming regions to ocean grid: \", end=\"\")\n",
    "for (rname, r) in region.regions.items():\n",
    "    print(rname, end=\", \")\n",
    "    region_gridded.regions[rname] = reg.GriddedRegion(\n",
    "        rname,\n",
    "        r.lons,\n",
    "        r.lats,\n",
    "        grid,\n",
    "        positive_in=r.counterclockwise\n",
    "    )"
   ]
  },
  {
   "cell_type": "code",
   "execution_count": null,
   "id": "2ba179c7-a408-4dd2-887c-5469fc0c39bf",
   "metadata": {},
   "outputs": [],
   "source": [
    "reg.check_global_coverage(region_gridded)\n",
    "region_gridded.find_all_overlaps(face_indices=True)\n",
    "\n",
    "# `pickle` boundary indices and area mask\n",
    "regionFile_CM4p25 = \"/work/hfd/datasets/regionate/pickled_regions/PJ2010_region_gridded_CM4p25\"\n",
    "with open(regionFile_CM4p25, 'wb') as pickle_file:\n",
    "    pickle.dump(region_gridded, pickle_file)"
   ]
  },
  {
   "cell_type": "markdown",
   "id": "dca3abb7-7db9-4579-af54-d0495cb9890e",
   "metadata": {},
   "source": [
    "## Conform regions to CM4p125 grid"
   ]
  },
  {
   "cell_type": "code",
   "execution_count": null,
   "id": "d8563867-fd05-4ee7-b232-9f3c3913e17d",
   "metadata": {},
   "outputs": [],
   "source": [
    "# Load CMp125 grid\n",
    "import warnings\n",
    "with warnings.catch_warnings():\n",
    "    warnings.filterwarnings(\"ignore\")\n",
    "    \n",
    "    # get correct geo coords from super grid\n",
    "    sg = xr.open_dataset(\"/archive/Raphael.Dussin/datasets/OM4p125/mosaic_c192_om4p125_bedmachine_v20210310_hydrographyKDunne20210614_unpacked/ocean_hgrid.nc\")\n",
    "    zdiag_path = \"/archive/Raphael.Dussin/FMS2019.01.03_devgfdl_20210706/CM4_piControl_c192_OM4p125_v7/gfdl.ncrc4-intel18-prod-openmp/pp/ocean_annual_z/\"\n",
    "    ocean_grid = xr.open_dataset(f\"{zdiag_path}ocean_annual_z.static.nc\")\n",
    "    ocean_grid = ocean_grid.assign_coords({\n",
    "        'geolon'  : xr.DataArray(sg['x'][1::2,1::2].data, dims=[\"yh\", \"xh\"]),\n",
    "        'geolat'  : xr.DataArray(sg['y'][1::2,1::2].data, dims=[\"yh\", \"xh\"]),\n",
    "        'geolon_u': xr.DataArray(sg['x'][1::2,0::2].data, dims=[\"yh\", \"xq\"]),\n",
    "        'geolat_u': xr.DataArray(sg['y'][1::2,0::2].data, dims=[\"yh\", \"xq\"]),\n",
    "        'geolon_v': xr.DataArray(sg['x'][0::2,1::2].data, dims=[\"yq\", \"xh\"]),\n",
    "        'geolat_v': xr.DataArray(sg['y'][0::2,1::2].data, dims=[\"yq\", \"xh\"]),\n",
    "        'geolon_c': xr.DataArray(sg['x'][0::2,0::2].data, dims=[\"yq\", \"xq\"]),\n",
    "        'geolat_c': xr.DataArray(sg['y'][0::2,0::2].data, dims=[\"yq\", \"xq\"])\n",
    "    })\n",
    "\n",
    "    coords={\n",
    "        'X': {'center': 'xh', 'outer': 'xq'},\n",
    "        'Y': {'center': 'yh', 'outer': 'yq'},\n",
    "    }\n",
    "    grid = xgcm.Grid(ocean_grid, coords=coords, periodic=(\"X\"))"
   ]
  },
  {
   "cell_type": "code",
   "execution_count": null,
   "id": "1bd4c9cf-c929-4964-be26-ec42a5ca08ba",
   "metadata": {},
   "outputs": [],
   "source": [
    "region_gridded = reg.GriddedRegions({}, ocean_grid, grid)\n",
    "\n",
    "# Conform basin boundaries to model grid\n",
    "print(\"Conforming regions to ocean grid: \", end=\"\")\n",
    "for (rname, r) in region.regions.items():\n",
    "    print(rname, end=\", \")\n",
    "    region_gridded.regions[rname] = reg.GriddedRegion(\n",
    "        rname,\n",
    "        r.lons,\n",
    "        r.lats,\n",
    "        grid\n",
    "    )"
   ]
  },
  {
   "cell_type": "code",
   "execution_count": null,
   "id": "5dc862b2-9e1f-4070-9f9a-4ec9ecb5698d",
   "metadata": {},
   "outputs": [],
   "source": [
    "# `pickle` boundary indices and area mask\n",
    "regionFile_CM4p125 = \"/work/hfd/datasets/regionate/pickled_regions/PJ2010_region_gridded_CM4p125\"\n",
    "with open(regionFile_CM4p125, 'wb') as pickle_file:\n",
    "    pickle.dump(region_gridded, pickle_file)"
   ]
  },
  {
   "cell_type": "code",
   "execution_count": null,
   "id": "3786b107-ef69-41f8-bc85-9896d26c280d",
   "metadata": {},
   "outputs": [],
   "source": []
  }
 ],
 "metadata": {
  "kernelspec": {
   "display_name": "Python 3 (ipykernel)",
   "language": "python",
   "name": "python3"
  },
  "language_info": {
   "codemirror_mode": {
    "name": "ipython",
    "version": 3
   },
   "file_extension": ".py",
   "mimetype": "text/x-python",
   "name": "python",
   "nbconvert_exporter": "python",
   "pygments_lexer": "ipython3",
   "version": "3.10.6"
  }
 },
 "nbformat": 4,
 "nbformat_minor": 5
}
