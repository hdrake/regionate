{
 "cells": [
  {
   "cell_type": "code",
   "execution_count": 3,
   "id": "948f8ff0-3b46-49c7-a030-5f5094d8f956",
   "metadata": {},
   "outputs": [
    {
     "name": "stdout",
     "output_type": "stream",
     "text": [
      "The autoreload extension is already loaded. To reload it, use:\n",
      "  %reload_ext autoreload\n"
     ]
    }
   ],
   "source": [
    "%load_ext autoreload\n",
    "%autoreload 2"
   ]
  },
  {
   "cell_type": "markdown",
   "id": "3540228a-34a5-43ee-aeae-d25730eee568",
   "metadata": {},
   "source": [
    "### Load CMp125 output"
   ]
  },
  {
   "cell_type": "code",
   "execution_count": 4,
   "id": "b136bf6c-e9cf-4559-a918-8d69389523bb",
   "metadata": {},
   "outputs": [],
   "source": [
    "import numpy as np\n",
    "import xarray as xr\n",
    "from xgcm import Grid"
   ]
  },
  {
   "cell_type": "code",
   "execution_count": 48,
   "id": "0b9e731d-81c2-4c33-ab64-299130e6e2f5",
   "metadata": {},
   "outputs": [],
   "source": [
    "import warnings\n",
    "with warnings.catch_warnings():\n",
    "    warnings.filterwarnings(\"ignore\")\n",
    "\n",
    "    ## Load CM4p125's state variable output\n",
    "    zdiag_path = \"/archive/Raphael.Dussin/FMS2019.01.03_devgfdl_20210706/CM4_piControl_c192_OM4p125_v7/gfdl.ncrc4-intel18-prod-openmp/pp/ocean_annual_rho2/\"\n",
    "    umo = xr.open_mfdataset(f\"{zdiag_path}ts/annual/10yr/*.umo.nc\", chunks={'time':1})\n",
    "    vmo = xr.open_mfdataset(f\"{zdiag_path}ts/annual/10yr/*.vmo.nc\", chunks={'time':1})\n",
    "    trans = xr.merge([umo, vmo])"
   ]
  },
  {
   "cell_type": "code",
   "execution_count": 50,
   "id": "c4e00baa-addf-466c-a2f2-b7d28c6d1824",
   "metadata": {},
   "outputs": [],
   "source": [
    "with warnings.catch_warnings():\n",
    "    warnings.filterwarnings(\"ignore\")\n",
    "    \n",
    "    # get correct geo coords from super grid\n",
    "    sg = xr.open_dataset(\"/archive/Raphael.Dussin/datasets/OM4p125/mosaic_c192_om4p125_bedmachine_v20210310_hydrographyKDunne20210614_unpacked/ocean_hgrid.nc\")\n",
    "    ocean_grid = xr.open_dataset(f\"{zdiag_path}ocean_annual_rho2.static.nc\")\n",
    "    ocean_grid = ocean_grid.assign_coords({'geolon'  : xr.DataArray(sg['x'][1::2,1::2].data, dims=[\"yh\", \"xh\"]),\n",
    "                                           'geolat'  : xr.DataArray(sg['y'][1::2,1::2].data, dims=[\"yh\", \"xh\"]),\n",
    "                                           'geolon_u': xr.DataArray(sg['x'][1::2,0::2].data, dims=[\"yh\", \"xq\"]),\n",
    "                                           'geolat_u': xr.DataArray(sg['y'][1::2,0::2].data, dims=[\"yh\", \"xq\"]),\n",
    "                                           'geolon_v': xr.DataArray(sg['x'][0::2,1::2].data, dims=[\"yq\", \"xh\"]),\n",
    "                                           'geolat_v': xr.DataArray(sg['y'][0::2,1::2].data, dims=[\"yq\", \"xh\"]),\n",
    "                                           'geolon_c': xr.DataArray(sg['x'][0::2,0::2].data, dims=[\"yq\", \"xq\"]),\n",
    "                                           'geolat_c': xr.DataArray(sg['y'][0::2,0::2].data, dims=[\"yq\", \"xq\"])})\n",
    "\n",
    "    # correct state variable grids\n",
    "    grid = Grid(trans, coords={'X': {'center': 'xh', 'outer': 'xq'},\n",
    "                            'Y': {'center': 'yh', 'outer': 'yq'},\n",
    "                            'Z': {'center': 'rho2_l', 'outer': 'rho2_i'} }, periodic=['X'])\n",
    "    trans['geolon_c'] = xr.DataArray(data=ocean_grid['geolon_c'].data, dims=('yq', 'xq'))\n",
    "    trans['geolat_c'] = xr.DataArray(data=ocean_grid['geolat_c'].data, dims=('yq', 'xq'))\n",
    "    trans['geolon_u'] = xr.DataArray(data=ocean_grid['geolon_u'].data, dims=('yh', 'xq'))\n",
    "    trans['geolat_u'] = xr.DataArray(data=ocean_grid['geolat_u'].data, dims=('yh', 'xq'))\n",
    "    trans['geolon_v'] = xr.DataArray(data=ocean_grid['geolon_v'].data, dims=('yq', 'xh'))\n",
    "    trans['geolat_v'] = xr.DataArray(data=ocean_grid['geolat_v'].data, dims=('yq', 'xh'))\n",
    "    trans['geolon'] = xr.DataArray(data=ocean_grid['geolon'].data, dims=('yh', 'xh'))\n",
    "    trans['geolat'] = xr.DataArray(data=ocean_grid['geolat'].data, dims=('yh', 'xh'))\n",
    "    trans = trans.assign_coords({'geolon': trans['geolon'],\n",
    "                                 'geolat': trans['geolat']})"
   ]
  },
  {
   "cell_type": "code",
   "execution_count": 51,
   "id": "47fc6a12-9eea-40d0-ae87-b578ed5c84b7",
   "metadata": {},
   "outputs": [],
   "source": [
    "rho2_interfaces = np.array([990.0, 1036.5, 1037.05, 1040.0])\n",
    "rho2_levels = np.array([np.mean(rho2_interfaces[i:i+2]) for i in range(len(rho2_interfaces)-1)])"
   ]
  },
  {
   "cell_type": "code",
   "execution_count": 52,
   "id": "194e2644-86cc-4e4b-9cd6-b530281346de",
   "metadata": {},
   "outputs": [],
   "source": [
    "import warnings\n",
    "with warnings.catch_warnings():\n",
    "    warnings.filterwarnings(\"ignore\")\n",
    "\n",
    "    trans_wm = xr.Dataset({})\n",
    "    trans_wm[\"umo\"] = grid.transform(trans[\"umo\"].fillna(0.), 'Z', rho2_interfaces, target_data=trans['rho2_i'], method=\"conservative\")\n",
    "    trans_wm[\"vmo\"] = grid.transform(trans[\"vmo\"].fillna(0.), 'Z', rho2_interfaces, target_data=trans['rho2_i'], method=\"conservative\")\n",
    "    trans_wm = trans_wm.rename({'rho2_i':'rho2_l'}).assign_coords({\"rho2_l\": rho2_levels})"
   ]
  },
  {
   "cell_type": "code",
   "execution_count": 62,
   "id": "c192819c-042e-402e-bc2e-9025571f0ed6",
   "metadata": {},
   "outputs": [],
   "source": [
    "for year, t in enumerate(trans_wm.time, start=1):\n",
    "    trans_wm.sel(time=t).to_netcdf(f\"/work/hfd/CM4-highres-WMT/data/abyssal_water_mass_transports_{str(year).zfill(4)}.nc\", mode=\"w\")"
   ]
  },
  {
   "cell_type": "code",
   "execution_count": null,
   "id": "725c00ef-6ef0-4da6-b295-ad18d18e5bcb",
   "metadata": {},
   "outputs": [],
   "source": []
  }
 ],
 "metadata": {
  "kernelspec": {
   "display_name": "Python 3 (ipykernel)",
   "language": "python",
   "name": "python3"
  },
  "language_info": {
   "codemirror_mode": {
    "name": "ipython",
    "version": 3
   },
   "file_extension": ".py",
   "mimetype": "text/x-python",
   "name": "python",
   "nbconvert_exporter": "python",
   "pygments_lexer": "ipython3",
   "version": "3.10.6"
  }
 },
 "nbformat": 4,
 "nbformat_minor": 5
}
