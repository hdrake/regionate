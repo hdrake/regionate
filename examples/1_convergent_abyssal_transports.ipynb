{
 "cells": [
  {
   "cell_type": "code",
   "execution_count": 1,
   "id": "8283979b-bcd1-432f-a959-0e64ae33b53f",
   "metadata": {},
   "outputs": [],
   "source": [
    "%load_ext autoreload\n",
    "%autoreload 2"
   ]
  },
  {
   "cell_type": "code",
   "execution_count": 2,
   "id": "86daf836-99b6-4a88-814a-054625b2b86c",
   "metadata": {},
   "outputs": [
    {
     "ename": "KeyboardInterrupt",
     "evalue": "",
     "output_type": "error",
     "traceback": [
      "\u001b[0;31m---------------------------------------------------------------------------\u001b[0m",
      "\u001b[0;31mKeyboardInterrupt\u001b[0m                         Traceback (most recent call last)",
      "Cell \u001b[0;32mIn [2], line 1\u001b[0m\n\u001b[0;32m----> 1\u001b[0m \u001b[38;5;28;01mimport\u001b[39;00m \u001b[38;5;21;01mxarray\u001b[39;00m \u001b[38;5;28;01mas\u001b[39;00m \u001b[38;5;21;01mxr\u001b[39;00m\n\u001b[1;32m      2\u001b[0m \u001b[38;5;28;01mfrom\u001b[39;00m \u001b[38;5;21;01mxgcm\u001b[39;00m \u001b[38;5;28;01mimport\u001b[39;00m Grid\n\u001b[1;32m      3\u001b[0m \u001b[38;5;28;01mimport\u001b[39;00m \u001b[38;5;21;01mnumpy\u001b[39;00m \u001b[38;5;28;01mas\u001b[39;00m \u001b[38;5;21;01mnp\u001b[39;00m\n",
      "File \u001b[0;32m/work/hfd/.conda/envs/generic-xstack/lib/python3.10/site-packages/xarray/__init__.py:1\u001b[0m\n\u001b[0;32m----> 1\u001b[0m \u001b[38;5;28;01mfrom\u001b[39;00m \u001b[38;5;21;01m.\u001b[39;00m \u001b[38;5;28;01mimport\u001b[39;00m testing, tutorial\n\u001b[1;32m      2\u001b[0m \u001b[38;5;28;01mfrom\u001b[39;00m \u001b[38;5;21;01m.\u001b[39;00m\u001b[38;5;21;01mbackends\u001b[39;00m\u001b[38;5;21;01m.\u001b[39;00m\u001b[38;5;21;01mapi\u001b[39;00m \u001b[38;5;28;01mimport\u001b[39;00m (\n\u001b[1;32m      3\u001b[0m     load_dataarray,\n\u001b[1;32m      4\u001b[0m     load_dataset,\n\u001b[0;32m   (...)\u001b[0m\n\u001b[1;32m      8\u001b[0m     save_mfdataset,\n\u001b[1;32m      9\u001b[0m )\n\u001b[1;32m     10\u001b[0m \u001b[38;5;28;01mfrom\u001b[39;00m \u001b[38;5;21;01m.\u001b[39;00m\u001b[38;5;21;01mbackends\u001b[39;00m\u001b[38;5;21;01m.\u001b[39;00m\u001b[38;5;21;01mrasterio_\u001b[39;00m \u001b[38;5;28;01mimport\u001b[39;00m open_rasterio\n",
      "File \u001b[0;32m/work/hfd/.conda/envs/generic-xstack/lib/python3.10/site-packages/xarray/testing.py:7\u001b[0m\n\u001b[1;32m      4\u001b[0m \u001b[38;5;28;01mfrom\u001b[39;00m \u001b[38;5;21;01mtyping\u001b[39;00m \u001b[38;5;28;01mimport\u001b[39;00m Hashable, Set, Union\n\u001b[1;32m      6\u001b[0m \u001b[38;5;28;01mimport\u001b[39;00m \u001b[38;5;21;01mnumpy\u001b[39;00m \u001b[38;5;28;01mas\u001b[39;00m \u001b[38;5;21;01mnp\u001b[39;00m\n\u001b[0;32m----> 7\u001b[0m \u001b[38;5;28;01mimport\u001b[39;00m \u001b[38;5;21;01mpandas\u001b[39;00m \u001b[38;5;28;01mas\u001b[39;00m \u001b[38;5;21;01mpd\u001b[39;00m\n\u001b[1;32m      9\u001b[0m \u001b[38;5;28;01mfrom\u001b[39;00m \u001b[38;5;21;01mxarray\u001b[39;00m\u001b[38;5;21;01m.\u001b[39;00m\u001b[38;5;21;01mcore\u001b[39;00m \u001b[38;5;28;01mimport\u001b[39;00m duck_array_ops, formatting, utils\n\u001b[1;32m     10\u001b[0m \u001b[38;5;28;01mfrom\u001b[39;00m \u001b[38;5;21;01mxarray\u001b[39;00m\u001b[38;5;21;01m.\u001b[39;00m\u001b[38;5;21;01mcore\u001b[39;00m\u001b[38;5;21;01m.\u001b[39;00m\u001b[38;5;21;01mdataarray\u001b[39;00m \u001b[38;5;28;01mimport\u001b[39;00m DataArray\n",
      "File \u001b[0;32m/work/hfd/.conda/envs/generic-xstack/lib/python3.10/site-packages/pandas/__init__.py:141\u001b[0m\n\u001b[1;32m    138\u001b[0m \u001b[38;5;28;01mfrom\u001b[39;00m \u001b[38;5;21;01mpandas\u001b[39;00m \u001b[38;5;28;01mimport\u001b[39;00m testing  \u001b[38;5;66;03m# noqa:PDF015\u001b[39;00m\n\u001b[1;32m    139\u001b[0m \u001b[38;5;28;01mfrom\u001b[39;00m \u001b[38;5;21;01mpandas\u001b[39;00m\u001b[38;5;21;01m.\u001b[39;00m\u001b[38;5;21;01mutil\u001b[39;00m\u001b[38;5;21;01m.\u001b[39;00m\u001b[38;5;21;01m_print_versions\u001b[39;00m \u001b[38;5;28;01mimport\u001b[39;00m show_versions\n\u001b[0;32m--> 141\u001b[0m \u001b[38;5;28;01mfrom\u001b[39;00m \u001b[38;5;21;01mpandas\u001b[39;00m\u001b[38;5;21;01m.\u001b[39;00m\u001b[38;5;21;01mio\u001b[39;00m\u001b[38;5;21;01m.\u001b[39;00m\u001b[38;5;21;01mapi\u001b[39;00m \u001b[38;5;28;01mimport\u001b[39;00m (\n\u001b[1;32m    142\u001b[0m     \u001b[38;5;66;03m# excel\u001b[39;00m\n\u001b[1;32m    143\u001b[0m     ExcelFile,\n\u001b[1;32m    144\u001b[0m     ExcelWriter,\n\u001b[1;32m    145\u001b[0m     read_excel,\n\u001b[1;32m    146\u001b[0m     \u001b[38;5;66;03m# parsers\u001b[39;00m\n\u001b[1;32m    147\u001b[0m     read_csv,\n\u001b[1;32m    148\u001b[0m     read_fwf,\n\u001b[1;32m    149\u001b[0m     read_table,\n\u001b[1;32m    150\u001b[0m     \u001b[38;5;66;03m# pickle\u001b[39;00m\n\u001b[1;32m    151\u001b[0m     read_pickle,\n\u001b[1;32m    152\u001b[0m     to_pickle,\n\u001b[1;32m    153\u001b[0m     \u001b[38;5;66;03m# pytables\u001b[39;00m\n\u001b[1;32m    154\u001b[0m     HDFStore,\n\u001b[1;32m    155\u001b[0m     read_hdf,\n\u001b[1;32m    156\u001b[0m     \u001b[38;5;66;03m# sql\u001b[39;00m\n\u001b[1;32m    157\u001b[0m     read_sql,\n\u001b[1;32m    158\u001b[0m     read_sql_query,\n\u001b[1;32m    159\u001b[0m     read_sql_table,\n\u001b[1;32m    160\u001b[0m     \u001b[38;5;66;03m# misc\u001b[39;00m\n\u001b[1;32m    161\u001b[0m     read_clipboard,\n\u001b[1;32m    162\u001b[0m     read_parquet,\n\u001b[1;32m    163\u001b[0m     read_orc,\n\u001b[1;32m    164\u001b[0m     read_feather,\n\u001b[1;32m    165\u001b[0m     read_gbq,\n\u001b[1;32m    166\u001b[0m     read_html,\n\u001b[1;32m    167\u001b[0m     read_xml,\n\u001b[1;32m    168\u001b[0m     read_json,\n\u001b[1;32m    169\u001b[0m     read_stata,\n\u001b[1;32m    170\u001b[0m     read_sas,\n\u001b[1;32m    171\u001b[0m     read_spss,\n\u001b[1;32m    172\u001b[0m )\n\u001b[1;32m    174\u001b[0m \u001b[38;5;28;01mfrom\u001b[39;00m \u001b[38;5;21;01mpandas\u001b[39;00m\u001b[38;5;21;01m.\u001b[39;00m\u001b[38;5;21;01mio\u001b[39;00m\u001b[38;5;21;01m.\u001b[39;00m\u001b[38;5;21;01mjson\u001b[39;00m \u001b[38;5;28;01mimport\u001b[39;00m _json_normalize \u001b[38;5;28;01mas\u001b[39;00m json_normalize\n\u001b[1;32m    176\u001b[0m \u001b[38;5;28;01mfrom\u001b[39;00m \u001b[38;5;21;01mpandas\u001b[39;00m\u001b[38;5;21;01m.\u001b[39;00m\u001b[38;5;21;01mutil\u001b[39;00m\u001b[38;5;21;01m.\u001b[39;00m\u001b[38;5;21;01m_tester\u001b[39;00m \u001b[38;5;28;01mimport\u001b[39;00m test\n",
      "File \u001b[0;32m/work/hfd/.conda/envs/generic-xstack/lib/python3.10/site-packages/pandas/io/api.py:6\u001b[0m\n\u001b[1;32m      1\u001b[0m \u001b[38;5;124;03m\"\"\"\u001b[39;00m\n\u001b[1;32m      2\u001b[0m \u001b[38;5;124;03mData IO api\u001b[39;00m\n\u001b[1;32m      3\u001b[0m \u001b[38;5;124;03m\"\"\"\u001b[39;00m\n\u001b[1;32m      5\u001b[0m \u001b[38;5;28;01mfrom\u001b[39;00m \u001b[38;5;21;01mpandas\u001b[39;00m\u001b[38;5;21;01m.\u001b[39;00m\u001b[38;5;21;01mio\u001b[39;00m\u001b[38;5;21;01m.\u001b[39;00m\u001b[38;5;21;01mclipboards\u001b[39;00m \u001b[38;5;28;01mimport\u001b[39;00m read_clipboard\n\u001b[0;32m----> 6\u001b[0m \u001b[38;5;28;01mfrom\u001b[39;00m \u001b[38;5;21;01mpandas\u001b[39;00m\u001b[38;5;21;01m.\u001b[39;00m\u001b[38;5;21;01mio\u001b[39;00m\u001b[38;5;21;01m.\u001b[39;00m\u001b[38;5;21;01mexcel\u001b[39;00m \u001b[38;5;28;01mimport\u001b[39;00m (\n\u001b[1;32m      7\u001b[0m     ExcelFile,\n\u001b[1;32m      8\u001b[0m     ExcelWriter,\n\u001b[1;32m      9\u001b[0m     read_excel,\n\u001b[1;32m     10\u001b[0m )\n\u001b[1;32m     11\u001b[0m \u001b[38;5;28;01mfrom\u001b[39;00m \u001b[38;5;21;01mpandas\u001b[39;00m\u001b[38;5;21;01m.\u001b[39;00m\u001b[38;5;21;01mio\u001b[39;00m\u001b[38;5;21;01m.\u001b[39;00m\u001b[38;5;21;01mfeather_format\u001b[39;00m \u001b[38;5;28;01mimport\u001b[39;00m read_feather\n\u001b[1;32m     12\u001b[0m \u001b[38;5;28;01mfrom\u001b[39;00m \u001b[38;5;21;01mpandas\u001b[39;00m\u001b[38;5;21;01m.\u001b[39;00m\u001b[38;5;21;01mio\u001b[39;00m\u001b[38;5;21;01m.\u001b[39;00m\u001b[38;5;21;01mgbq\u001b[39;00m \u001b[38;5;28;01mimport\u001b[39;00m read_gbq\n",
      "File \u001b[0;32m/work/hfd/.conda/envs/generic-xstack/lib/python3.10/site-packages/pandas/io/excel/__init__.py:1\u001b[0m\n\u001b[0;32m----> 1\u001b[0m \u001b[38;5;28;01mfrom\u001b[39;00m \u001b[38;5;21;01mpandas\u001b[39;00m\u001b[38;5;21;01m.\u001b[39;00m\u001b[38;5;21;01mio\u001b[39;00m\u001b[38;5;21;01m.\u001b[39;00m\u001b[38;5;21;01mexcel\u001b[39;00m\u001b[38;5;21;01m.\u001b[39;00m\u001b[38;5;21;01m_base\u001b[39;00m \u001b[38;5;28;01mimport\u001b[39;00m (\n\u001b[1;32m      2\u001b[0m     ExcelFile,\n\u001b[1;32m      3\u001b[0m     ExcelWriter,\n\u001b[1;32m      4\u001b[0m     read_excel,\n\u001b[1;32m      5\u001b[0m )\n\u001b[1;32m      6\u001b[0m \u001b[38;5;28;01mfrom\u001b[39;00m \u001b[38;5;21;01mpandas\u001b[39;00m\u001b[38;5;21;01m.\u001b[39;00m\u001b[38;5;21;01mio\u001b[39;00m\u001b[38;5;21;01m.\u001b[39;00m\u001b[38;5;21;01mexcel\u001b[39;00m\u001b[38;5;21;01m.\u001b[39;00m\u001b[38;5;21;01m_odswriter\u001b[39;00m \u001b[38;5;28;01mimport\u001b[39;00m ODSWriter \u001b[38;5;28;01mas\u001b[39;00m _ODSWriter\n\u001b[1;32m      7\u001b[0m \u001b[38;5;28;01mfrom\u001b[39;00m \u001b[38;5;21;01mpandas\u001b[39;00m\u001b[38;5;21;01m.\u001b[39;00m\u001b[38;5;21;01mio\u001b[39;00m\u001b[38;5;21;01m.\u001b[39;00m\u001b[38;5;21;01mexcel\u001b[39;00m\u001b[38;5;21;01m.\u001b[39;00m\u001b[38;5;21;01m_openpyxl\u001b[39;00m \u001b[38;5;28;01mimport\u001b[39;00m OpenpyxlWriter \u001b[38;5;28;01mas\u001b[39;00m _OpenpyxlWriter\n",
      "File \u001b[0;32m/work/hfd/.conda/envs/generic-xstack/lib/python3.10/site-packages/pandas/io/excel/_base.py:74\u001b[0m\n\u001b[1;32m     61\u001b[0m \u001b[38;5;28;01mfrom\u001b[39;00m \u001b[38;5;21;01mpandas\u001b[39;00m\u001b[38;5;21;01m.\u001b[39;00m\u001b[38;5;21;01mio\u001b[39;00m\u001b[38;5;21;01m.\u001b[39;00m\u001b[38;5;21;01mcommon\u001b[39;00m \u001b[38;5;28;01mimport\u001b[39;00m (\n\u001b[1;32m     62\u001b[0m     IOHandles,\n\u001b[1;32m     63\u001b[0m     get_handle,\n\u001b[1;32m     64\u001b[0m     stringify_path,\n\u001b[1;32m     65\u001b[0m     validate_header_arg,\n\u001b[1;32m     66\u001b[0m )\n\u001b[1;32m     67\u001b[0m \u001b[38;5;28;01mfrom\u001b[39;00m \u001b[38;5;21;01mpandas\u001b[39;00m\u001b[38;5;21;01m.\u001b[39;00m\u001b[38;5;21;01mio\u001b[39;00m\u001b[38;5;21;01m.\u001b[39;00m\u001b[38;5;21;01mexcel\u001b[39;00m\u001b[38;5;21;01m.\u001b[39;00m\u001b[38;5;21;01m_util\u001b[39;00m \u001b[38;5;28;01mimport\u001b[39;00m (\n\u001b[1;32m     68\u001b[0m     fill_mi_header,\n\u001b[1;32m     69\u001b[0m     get_default_engine,\n\u001b[0;32m   (...)\u001b[0m\n\u001b[1;32m     72\u001b[0m     pop_header_name,\n\u001b[1;32m     73\u001b[0m )\n\u001b[0;32m---> 74\u001b[0m \u001b[38;5;28;01mfrom\u001b[39;00m \u001b[38;5;21;01mpandas\u001b[39;00m\u001b[38;5;21;01m.\u001b[39;00m\u001b[38;5;21;01mio\u001b[39;00m\u001b[38;5;21;01m.\u001b[39;00m\u001b[38;5;21;01mparsers\u001b[39;00m \u001b[38;5;28;01mimport\u001b[39;00m TextParser\n\u001b[1;32m     75\u001b[0m \u001b[38;5;28;01mfrom\u001b[39;00m \u001b[38;5;21;01mpandas\u001b[39;00m\u001b[38;5;21;01m.\u001b[39;00m\u001b[38;5;21;01mio\u001b[39;00m\u001b[38;5;21;01m.\u001b[39;00m\u001b[38;5;21;01mparsers\u001b[39;00m\u001b[38;5;21;01m.\u001b[39;00m\u001b[38;5;21;01mreaders\u001b[39;00m \u001b[38;5;28;01mimport\u001b[39;00m validate_integer\n\u001b[1;32m     77\u001b[0m _read_excel_doc \u001b[38;5;241m=\u001b[39m (\n\u001b[1;32m     78\u001b[0m     \u001b[38;5;124;03m\"\"\"\u001b[39;00m\n\u001b[1;32m     79\u001b[0m \u001b[38;5;124;03mRead an Excel file into a pandas DataFrame.\u001b[39;00m\n\u001b[0;32m   (...)\u001b[0m\n\u001b[1;32m    358\u001b[0m \u001b[38;5;124m\"\"\"\u001b[39m\n\u001b[1;32m    359\u001b[0m )\n",
      "File \u001b[0;32m<frozen importlib._bootstrap>:1027\u001b[0m, in \u001b[0;36m_find_and_load\u001b[0;34m(name, import_)\u001b[0m\n",
      "File \u001b[0;32m<frozen importlib._bootstrap>:1006\u001b[0m, in \u001b[0;36m_find_and_load_unlocked\u001b[0;34m(name, import_)\u001b[0m\n",
      "File \u001b[0;32m<frozen importlib._bootstrap>:688\u001b[0m, in \u001b[0;36m_load_unlocked\u001b[0;34m(spec)\u001b[0m\n",
      "File \u001b[0;32m<frozen importlib._bootstrap_external>:879\u001b[0m, in \u001b[0;36mexec_module\u001b[0;34m(self, module)\u001b[0m\n",
      "File \u001b[0;32m<frozen importlib._bootstrap_external>:975\u001b[0m, in \u001b[0;36mget_code\u001b[0;34m(self, fullname)\u001b[0m\n",
      "File \u001b[0;32m<frozen importlib._bootstrap_external>:1074\u001b[0m, in \u001b[0;36mget_data\u001b[0;34m(self, path)\u001b[0m\n",
      "\u001b[0;31mKeyboardInterrupt\u001b[0m: "
     ]
    }
   ],
   "source": [
    "import xarray as xr\n",
    "from xgcm import Grid\n",
    "import numpy as np"
   ]
  },
  {
   "cell_type": "code",
   "execution_count": null,
   "id": "4cc5f2fa-32a3-4ebe-844f-40acb6f57563",
   "metadata": {},
   "outputs": [],
   "source": [
    "import matplotlib.pyplot as plt"
   ]
  },
  {
   "cell_type": "code",
   "execution_count": null,
   "id": "771da3dd-7aea-4e55-a699-b499b4a2dba2",
   "metadata": {},
   "outputs": [],
   "source": [
    "import regionate as reg\n",
    "import sectionate as sec"
   ]
  },
  {
   "cell_type": "code",
   "execution_count": 5,
   "id": "f2ec5560-7f44-4871-a3cd-a5bb2c656656",
   "metadata": {},
   "outputs": [],
   "source": [
    "import pickle\n",
    "BasinsFile = \"/work/hfd/datasets/regionate/pickled_regions/PJ2010_region_gridded_CM4p125\"\n",
    "with open(BasinsFile, 'rb') as pickle_file:\n",
    "    region = pickle.load(pickle_file)"
   ]
  },
  {
   "cell_type": "code",
   "execution_count": 6,
   "id": "bc1dd4e1-7f58-4b79-bcad-1ea18c873f81",
   "metadata": {},
   "outputs": [],
   "source": [
    "ds = xr.open_mfdataset(\"/work/hfd/CM4-highres-WMT/data/abyssal_water_mass_transports_*.nc\")\n",
    "grid = Grid(ds, coords={'X': {'center': 'xh', 'outer': 'xq'},\n",
    "                        'Y': {'center': 'yh', 'outer': 'yq'}}, periodic=['X'])\n",
    "sg = xr.open_dataset(\"/archive/Raphael.Dussin/datasets/OM4p125/mosaic_c192_om4p125_bedmachine_v20210310_hydrographyKDunne20210614_unpacked/ocean_hgrid.nc\")\n",
    "zdiag_path = \"/archive/Raphael.Dussin/FMS2019.01.03_devgfdl_20210706/CM4_piControl_c192_OM4p125_v7/gfdl.ncrc4-intel18-prod-openmp/pp/ocean_annual_rho2/\"\n",
    "og = xr.open_dataset(f\"{zdiag_path}ocean_annual_rho2.static.nc\")\n",
    "og = og.assign_coords({'geolon'  : xr.DataArray(sg['x'][1::2,1::2].data, dims=[\"yh\", \"xh\"]),\n",
    "                                       'geolat'  : xr.DataArray(sg['y'][1::2,1::2].data, dims=[\"yh\", \"xh\"]),\n",
    "                                       'geolon_u': xr.DataArray(sg['x'][1::2,0::2].data, dims=[\"yh\", \"xq\"]),\n",
    "                                       'geolat_u': xr.DataArray(sg['y'][1::2,0::2].data, dims=[\"yh\", \"xq\"]),\n",
    "                                       'geolon_v': xr.DataArray(sg['x'][0::2,1::2].data, dims=[\"yq\", \"xh\"]),\n",
    "                                       'geolat_v': xr.DataArray(sg['y'][0::2,1::2].data, dims=[\"yq\", \"xh\"]),\n",
    "                                       'geolon_c': xr.DataArray(sg['x'][0::2,0::2].data, dims=[\"yq\", \"xq\"]),\n",
    "                                       'geolat_c': xr.DataArray(sg['y'][0::2,0::2].data, dims=[\"yq\", \"xq\"])})\n",
    "ds = ds.assign_coords({\n",
    "    'dxCv': xr.DataArray(og['dxCv'].transpose('xh', 'yq').values, dims=('xh', 'yq',)),\n",
    "    'dyCu': xr.DataArray(og['dyCu'].transpose('xq', 'yh').values, dims=('xq', 'yh',))\n",
    "}) # add velocity face widths to calculate distances along the section\n",
    "symmetric = og.geolon.shape == og.geolon_c.shape\n",
    "\n",
    "rho0 = 1035."
   ]
  },
  {
   "cell_type": "code",
   "execution_count": null,
   "id": "2fee03b6-26c4-4282-a3f6-75fbe9740441",
   "metadata": {},
   "outputs": [],
   "source": []
  },
  {
   "cell_type": "code",
   "execution_count": 7,
   "id": "aa4e64ac-795b-4339-bd6b-6feb72ac8d69",
   "metadata": {},
   "outputs": [
    {
     "name": "stdout",
     "output_type": "stream",
     "text": [
      "Computing interbasin transports: 10, 11, 12, 13, 14, 15, 16, 17, 18, 19, 1, 20, 21, 22, 23, 24, 25, 26, 27, 28, 29, 2, 30, 31, 32, 33, 3, 4, 5, 6, 7, 8, 9, 35, 34, "
     ]
    }
   ],
   "source": [
    "print(\"Computing interbasin transports: \", end=\"\")\n",
    "for bname, b in region.Basins.items():\n",
    "    print(bname, end=\", \")\n",
    "    convergent_transport = sec.convergent_transport(ds.isel(time=-1), b.i, b.j, symmetric, layer=None, interface=None)['conv_mass_transport'].compute()/rho0*1e-6\n",
    "    b.psi = convergent_transport\n",
    "    b.psi_net = convergent_transport.sum('sect')\n",
    "    b_overlaps = {pair:o for pair,o in region.overlaps.items() if b.name in pair}\n",
    "    b.psi_exchange = {}\n",
    "    for pair, o in b_overlaps.items():\n",
    "        b.psi_exchange[pair] = convergent_transport.isel(sect=reg.flatten_odict(o[b.name])).sum('sect')"
   ]
  },
  {
   "cell_type": "code",
   "execution_count": 8,
   "id": "29346067-1240-4e9f-a3da-ff6eafcc5d18",
   "metadata": {},
   "outputs": [],
   "source": [
    "regionFile_CM4p125_moc = \"/work/hfd/datasets/regionate/pickled_regions/PJ2010_region_gridded_CM4p125_moc\"\n",
    "with open(regionFile_CM4p125_moc, 'wb') as pickle_file:\n",
    "    pickle.dump(region, pickle_file)"
   ]
  },
  {
   "cell_type": "code",
   "execution_count": null,
   "id": "6b7c181d-2ded-4246-b359-9dc429f4aa79",
   "metadata": {},
   "outputs": [],
   "source": []
  }
 ],
 "metadata": {
  "kernelspec": {
   "display_name": "Python 3 (ipykernel)",
   "language": "python",
   "name": "python3"
  },
  "language_info": {
   "codemirror_mode": {
    "name": "ipython",
    "version": 3
   },
   "file_extension": ".py",
   "mimetype": "text/x-python",
   "name": "python",
   "nbconvert_exporter": "python",
   "pygments_lexer": "ipython3",
   "version": "3.10.6"
  }
 },
 "nbformat": 4,
 "nbformat_minor": 5
}
