{
 "cells": [
  {
   "cell_type": "code",
   "execution_count": 1,
   "id": "8283979b-bcd1-432f-a959-0e64ae33b53f",
   "metadata": {},
   "outputs": [],
   "source": [
    "%load_ext autoreload\n",
    "%autoreload 2"
   ]
  },
  {
   "cell_type": "code",
   "execution_count": 2,
   "id": "86daf836-99b6-4a88-814a-054625b2b86c",
   "metadata": {},
   "outputs": [],
   "source": [
    "import xarray as xr\n",
    "from xgcm import Grid\n",
    "import numpy as np"
   ]
  },
  {
   "cell_type": "code",
   "execution_count": 3,
   "id": "4cc5f2fa-32a3-4ebe-844f-40acb6f57563",
   "metadata": {},
   "outputs": [],
   "source": [
    "import matplotlib.pyplot as plt"
   ]
  },
  {
   "cell_type": "code",
   "execution_count": 4,
   "id": "771da3dd-7aea-4e55-a699-b499b4a2dba2",
   "metadata": {},
   "outputs": [],
   "source": [
    "import regionate as reg\n",
    "import sectionate as sec"
   ]
  },
  {
   "cell_type": "code",
   "execution_count": 5,
   "id": "f2ec5560-7f44-4871-a3cd-a5bb2c656656",
   "metadata": {},
   "outputs": [],
   "source": [
    "import pickle\n",
    "BasinsFile = \"/work/hfd/datasets/regionate/pickled_regions/PJ2010_region_gridded_CM4p125\"\n",
    "with open(BasinsFile, 'rb') as pickle_file:\n",
    "    region = pickle.load(pickle_file)"
   ]
  },
  {
   "cell_type": "code",
   "execution_count": 6,
   "id": "bc1dd4e1-7f58-4b79-bcad-1ea18c873f81",
   "metadata": {},
   "outputs": [],
   "source": [
    "ds = xr.open_mfdataset(\"/work/hfd/CM4-highres-WMT/data/abyssal_water_mass_transports_*.nc\")\n",
    "grid = Grid(ds, coords={'X': {'center': 'xh', 'outer': 'xq'},\n",
    "                        'Y': {'center': 'yh', 'outer': 'yq'}}, periodic=['X'])\n",
    "sg = xr.open_dataset(\"/archive/Raphael.Dussin/datasets/OM4p125/mosaic_c192_om4p125_bedmachine_v20210310_hydrographyKDunne20210614_unpacked/ocean_hgrid.nc\")\n",
    "zdiag_path = \"/archive/Raphael.Dussin/FMS2019.01.03_devgfdl_20210706/CM4_piControl_c192_OM4p125_v7/gfdl.ncrc4-intel18-prod-openmp/pp/ocean_annual_rho2/\"\n",
    "og = xr.open_dataset(f\"{zdiag_path}ocean_annual_rho2.static.nc\")\n",
    "og = og.assign_coords({'geolon'  : xr.DataArray(sg['x'][1::2,1::2].data, dims=[\"yh\", \"xh\"]),\n",
    "                                       'geolat'  : xr.DataArray(sg['y'][1::2,1::2].data, dims=[\"yh\", \"xh\"]),\n",
    "                                       'geolon_u': xr.DataArray(sg['x'][1::2,0::2].data, dims=[\"yh\", \"xq\"]),\n",
    "                                       'geolat_u': xr.DataArray(sg['y'][1::2,0::2].data, dims=[\"yh\", \"xq\"]),\n",
    "                                       'geolon_v': xr.DataArray(sg['x'][0::2,1::2].data, dims=[\"yq\", \"xh\"]),\n",
    "                                       'geolat_v': xr.DataArray(sg['y'][0::2,1::2].data, dims=[\"yq\", \"xh\"]),\n",
    "                                       'geolon_c': xr.DataArray(sg['x'][0::2,0::2].data, dims=[\"yq\", \"xq\"]),\n",
    "                                       'geolat_c': xr.DataArray(sg['y'][0::2,0::2].data, dims=[\"yq\", \"xq\"])})\n",
    "ds = ds.assign_coords({\n",
    "    'dxCv': xr.DataArray(og['dxCv'].transpose('xh', 'yq').values, dims=('xh', 'yq',)),\n",
    "    'dyCu': xr.DataArray(og['dyCu'].transpose('xq', 'yh').values, dims=('xq', 'yh',))\n",
    "}) # add velocity face widths to calculate distances along the section\n",
    "symmetric = og.geolon.shape == og.geolon_c.shape\n",
    "\n",
    "rho0 = 1035."
   ]
  },
  {
   "cell_type": "code",
   "execution_count": null,
   "id": "aa4e64ac-795b-4339-bd6b-6feb72ac8d69",
   "metadata": {},
   "outputs": [
    {
     "name": "stdout",
     "output_type": "stream",
     "text": [
      "Computing interbasin transports: 10, 11, 12, 13, 14, 15, 16, 17, 18, 19, 1, 20, 21, 22, 23, 24, 25, 26, 27, 28, 29, 2, 30, 31, 32, 33, 3, 4, 5, 6, 7, 8, 9, 35, "
     ]
    }
   ],
   "source": [
    "print(\"Computing interbasin transports: \", end=\"\")\n",
    "for bname, b in region.Basins.items():\n",
    "    print(bname, end=\", \")\n",
    "    convergent_transport = sec.convergent_transport(ds.isel(time=-1), b.i, b.j, symmetric, layer=None, interface=None)['conv_mass_transport'].compute()/rho0*1e-6\n",
    "    b.psi = convergent_transport\n",
    "    b.psi_net = convergent_transport.sum('sect')\n",
    "    b_overlaps = {pair:o for pair,o in region.overlaps.items() if b.name in pair}\n",
    "    b.psi_exchange = {}\n",
    "    for pair, o in b_overlaps.items():\n",
    "        b.psi_exchange[pair] = convergent_transport.isel(sect=reg.flatten_odict(o[b.name])).sum('sect')"
   ]
  },
  {
   "cell_type": "code",
   "execution_count": null,
   "id": "29346067-1240-4e9f-a3da-ff6eafcc5d18",
   "metadata": {},
   "outputs": [],
   "source": [
    "regionFile_CM4p125_moc = \"/work/hfd/datasets/regionate/pickled_regions/PJ2010_region_gridded_CM4p125_moc\"\n",
    "with open(regionFile_CM4p125_moc, 'wb') as pickle_file:\n",
    "    pickle.dump(region, pickle_file)"
   ]
  },
  {
   "cell_type": "code",
   "execution_count": null,
   "id": "6b7c181d-2ded-4246-b359-9dc429f4aa79",
   "metadata": {},
   "outputs": [],
   "source": []
  }
 ],
 "metadata": {
  "kernelspec": {
   "display_name": "Python 3 (ipykernel)",
   "language": "python",
   "name": "python3"
  },
  "language_info": {
   "codemirror_mode": {
    "name": "ipython",
    "version": 3
   },
   "file_extension": ".py",
   "mimetype": "text/x-python",
   "name": "python",
   "nbconvert_exporter": "python",
   "pygments_lexer": "ipython3",
   "version": "3.10.6"
  }
 },
 "nbformat": 4,
 "nbformat_minor": 5
}
