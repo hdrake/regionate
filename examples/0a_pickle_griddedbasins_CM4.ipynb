{
 "cells": [
  {
   "cell_type": "code",
   "execution_count": 1,
   "id": "948f8ff0-3b46-49c7-a030-5f5094d8f956",
   "metadata": {},
   "outputs": [],
   "source": [
    "%load_ext autoreload\n",
    "%autoreload 2"
   ]
  },
  {
   "cell_type": "code",
   "execution_count": 2,
   "id": "f9e2d992-7460-4b23-a787-978c390d7a12",
   "metadata": {},
   "outputs": [],
   "source": [
    "import regionate as reg\n",
    "import sectionate as sec"
   ]
  },
  {
   "cell_type": "code",
   "execution_count": 3,
   "id": "6aeeb56e-2456-4542-b96b-c1df230a41ee",
   "metadata": {},
   "outputs": [],
   "source": [
    "import numpy as np\n",
    "import xarray as xr\n",
    "import matplotlib.pyplot as plt"
   ]
  },
  {
   "cell_type": "code",
   "execution_count": 4,
   "id": "8b877997-ae29-455b-b467-a8609b5e627f",
   "metadata": {},
   "outputs": [],
   "source": [
    "import pickle"
   ]
  },
  {
   "cell_type": "markdown",
   "id": "e47f09d8-e3dd-4a46-99da-fc059e4319b2",
   "metadata": {},
   "source": [
    "## Load basin boundaries as a `regionate.Region` consisting of 35 instances of `regionate.Basin`"
   ]
  },
  {
   "cell_type": "code",
   "execution_count": 5,
   "id": "4efa70e7-4188-4028-982f-892e0c61c59d",
   "metadata": {},
   "outputs": [],
   "source": [
    "import scipy.io\n",
    "basins = scipy.io.loadmat('boundaries/PJ2010_abyssal_basin_boundaries.mat', simplify_cells=True, squeeze_me=True)['bsn_only']\n",
    "region = reg.Region({\n",
    "    str(basin['bsn_num'].replace(\"_\", \"\")):\n",
    "    reg.Basin(basin['bsn'][0], basin['bsn'][1], str(basin['bsn_num'].replace(\"_\", \"\")), counterclockwise=True)\n",
    "    for basin in basins\n",
    "})\n",
    "    \n",
    "# Slightly shift coordinates off of supergrid nodes to avoid rounding errors\n",
    "for bname, b in region.Basins.items():\n",
    "    b.lons -= 1.e-3\n",
    "    b.lats -= 1.e-3"
   ]
  },
  {
   "cell_type": "markdown",
   "id": "2d8419d3-c53d-4e9b-9e95-6829afb046dd",
   "metadata": {},
   "source": [
    "## Conform regions to CM4p25 grid"
   ]
  },
  {
   "cell_type": "code",
   "execution_count": 6,
   "id": "0e9ad32a-f189-488b-9403-dcb3f6dc4c25",
   "metadata": {},
   "outputs": [
    {
     "name": "stdout",
     "output_type": "stream",
     "text": [
      "Conforming regions to ocean grid: 10, 11, 12, 13, 14, 15, 16, 17, 18, 19, 1, 20, 21, 22, 23, 24, 25, 26, 27, 28, 29, 2, 30, 31, 32, 33, 3, 4, 5, 6, 7, 8, 9, 35, 34, "
     ]
    }
   ],
   "source": [
    "region_gridded = region.copy()\n",
    "\n",
    "import warnings\n",
    "with warnings.catch_warnings():\n",
    "    warnings.filterwarnings(\"ignore\")\n",
    "\n",
    "    # get correct geo coords from super grid\n",
    "    sg = xr.open_dataset(\"/archive/Raphael.Dussin/datasets/OM4p25/c192_OM4_025_grid_No_mg_drag_v20160808_unpacked/ocean_hgrid.nc\")\n",
    "    zdiag_path = \"/archive/Raphael.Dussin/FMS2019.01.03_devgfdl_20210706/CM4_piControl_c192_OM4p25_v7_allfixes/gfdl.ncrc4-intel18-prod-openmp/pp/ocean_annual_z/\"\n",
    "    ocean_grid = xr.open_dataset(f\"{zdiag_path}ocean_annual_z.static.nc\")\n",
    "    ocean_grid = ocean_grid.assign_coords({'geolon'  : xr.DataArray(sg['x'][1::2,1::2].data, dims=[\"yh\", \"xh\"]),\n",
    "                                           'geolat'  : xr.DataArray(sg['y'][1::2,1::2].data, dims=[\"yh\", \"xh\"]),\n",
    "                                           'geolon_u': xr.DataArray(sg['x'][1::2,0::2].data, dims=[\"yh\", \"xq\"]),\n",
    "                                           'geolat_u': xr.DataArray(sg['y'][1::2,0::2].data, dims=[\"yh\", \"xq\"]),\n",
    "                                           'geolon_v': xr.DataArray(sg['x'][0::2,1::2].data, dims=[\"yq\", \"xh\"]),\n",
    "                                           'geolat_v': xr.DataArray(sg['y'][0::2,1::2].data, dims=[\"yq\", \"xh\"]),\n",
    "                                           'geolon_c': xr.DataArray(sg['x'][0::2,0::2].data, dims=[\"yq\", \"xq\"]),\n",
    "                                           'geolat_c': xr.DataArray(sg['y'][0::2,0::2].data, dims=[\"yq\", \"xq\"])})\n",
    "\n",
    "# Conform basin boundaries to model grid\n",
    "print(\"Conforming regions to ocean grid: \", end=\"\")\n",
    "for (bname, b) in region_gridded.Basins.items():\n",
    "    print(bname, end=\", \")\n",
    "    reg.conform_basin_to_ocean_grid(b, ocean_grid)\n",
    "reg.check_global_coverage(region_gridded)\n",
    "region_gridded.find_all_overlaps(face_indices=True)\n",
    "\n",
    "# `pickle` boundary indices and area mask\n",
    "regionFile_CM4p25 = \"/work/hfd/datasets/regionate/pickled_regions/PJ2010_region_gridded_CM4p25\"\n",
    "with open(regionFile_CM4p25, 'wb') as pickle_file:\n",
    "    pickle.dump(region_gridded, pickle_file)"
   ]
  },
  {
   "cell_type": "markdown",
   "id": "dca3abb7-7db9-4579-af54-d0495cb9890e",
   "metadata": {},
   "source": [
    "## Conform regions to CM4p125 grid"
   ]
  },
  {
   "cell_type": "code",
   "execution_count": 7,
   "id": "d8563867-fd05-4ee7-b232-9f3c3913e17d",
   "metadata": {},
   "outputs": [
    {
     "name": "stdout",
     "output_type": "stream",
     "text": [
      "Conforming regions to ocean grid: 10, 11, 12, 13, 14, 15, 16, 17, 18, 19, 1, 20, 21, 22, 23, 24, 25, 26, 27, 28, 29, 2, 30, 31, 32, 33, 3, 4, 5, 6, 7, 8, 9, 35, 34, "
     ]
    }
   ],
   "source": [
    "region_gridded = region.copy()\n",
    "\n",
    "# Load CMp125 grid\n",
    "import warnings\n",
    "with warnings.catch_warnings():\n",
    "    warnings.filterwarnings(\"ignore\")\n",
    "    \n",
    "    # get correct geo coords from super grid\n",
    "    sg = xr.open_dataset(\"/archive/Raphael.Dussin/datasets/OM4p125/mosaic_c192_om4p125_bedmachine_v20210310_hydrographyKDunne20210614_unpacked/ocean_hgrid.nc\")\n",
    "    zdiag_path = \"/archive/Raphael.Dussin/FMS2019.01.03_devgfdl_20210706/CM4_piControl_c192_OM4p125_v7/gfdl.ncrc4-intel18-prod-openmp/pp/ocean_annual_z/\"\n",
    "    ocean_grid = xr.open_dataset(f\"{zdiag_path}ocean_annual_z.static.nc\")\n",
    "    ocean_grid = ocean_grid.assign_coords({'geolon'  : xr.DataArray(sg['x'][1::2,1::2].data, dims=[\"yh\", \"xh\"]),\n",
    "                                           'geolat'  : xr.DataArray(sg['y'][1::2,1::2].data, dims=[\"yh\", \"xh\"]),\n",
    "                                           'geolon_u': xr.DataArray(sg['x'][1::2,0::2].data, dims=[\"yh\", \"xq\"]),\n",
    "                                           'geolat_u': xr.DataArray(sg['y'][1::2,0::2].data, dims=[\"yh\", \"xq\"]),\n",
    "                                           'geolon_v': xr.DataArray(sg['x'][0::2,1::2].data, dims=[\"yq\", \"xh\"]),\n",
    "                                           'geolat_v': xr.DataArray(sg['y'][0::2,1::2].data, dims=[\"yq\", \"xh\"]),\n",
    "                                           'geolon_c': xr.DataArray(sg['x'][0::2,0::2].data, dims=[\"yq\", \"xq\"]),\n",
    "                                           'geolat_c': xr.DataArray(sg['y'][0::2,0::2].data, dims=[\"yq\", \"xq\"])})\n",
    "\n",
    "# Conform basin boundaries to model grid\n",
    "print(\"Conforming regions to ocean grid: \", end=\"\")\n",
    "for (bname, b) in region_gridded.Basins.items():\n",
    "    print(bname, end=\", \")\n",
    "    reg.conform_basin_to_ocean_grid(b, ocean_grid)\n",
    "reg.check_global_coverage(region_gridded)\n",
    "region_gridded.find_all_overlaps(face_indices=True)\n",
    "\n",
    "# `pickle` boundary indices and area mask\n",
    "regionFile_CM4p125 = \"/work/hfd/datasets/regionate/pickled_regions/PJ2010_region_gridded_CM4p125\"\n",
    "with open(regionFile_CM4p125, 'wb') as pickle_file:\n",
    "    pickle.dump(region_gridded, pickle_file)"
   ]
  },
  {
   "cell_type": "code",
   "execution_count": null,
   "id": "b6a08e51-a1e0-4dde-be74-8444f8f353ca",
   "metadata": {},
   "outputs": [],
   "source": []
  }
 ],
 "metadata": {
  "kernelspec": {
   "display_name": "Python 3 (ipykernel)",
   "language": "python",
   "name": "python3"
  },
  "language_info": {
   "codemirror_mode": {
    "name": "ipython",
    "version": 3
   },
   "file_extension": ".py",
   "mimetype": "text/x-python",
   "name": "python",
   "nbconvert_exporter": "python",
   "pygments_lexer": "ipython3",
   "version": "3.10.6"
  }
 },
 "nbformat": 4,
 "nbformat_minor": 5
}
